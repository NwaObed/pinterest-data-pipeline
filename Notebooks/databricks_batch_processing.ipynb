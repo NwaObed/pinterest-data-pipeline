{
 "cells": [
  {
   "cell_type": "code",
   "execution_count": null,
   "metadata": {
    "application/vnd.databricks.v1+cell": {
     "cellMetadata": {
      "byteLimit": 2048000,
      "rowLimit": 10000
     },
     "inputWidgets": {},
     "nuid": "d59ac976-c57e-4b48-b20d-0602c54831ff",
     "showTitle": false,
     "title": ""
    }
   },
   "outputs": [
    {
     "data": {
      "text/html": [
       "<style scoped>\n",
       "  .ansiout {\n",
       "    display: block;\n",
       "    unicode-bidi: embed;\n",
       "    white-space: pre-wrap;\n",
       "    word-wrap: break-word;\n",
       "    word-break: break-all;\n",
       "    font-family: \"Source Code Pro\", \"Menlo\", monospace;;\n",
       "    font-size: 13px;\n",
       "    color: #555;\n",
       "    margin-left: 4px;\n",
       "    line-height: 19px;\n",
       "  }\n",
       "</style>\n",
       "<div class=\"ansiout\"></div>"
      ]
     },
     "metadata": {
      "application/vnd.databricks.v1+output": {
       "addedWidgets": {},
       "arguments": {},
       "data": "<div class=\"ansiout\"></div>",
       "datasetInfos": [],
       "metadata": {},
       "removedWidgets": [],
       "type": "html"
      }
     },
     "output_type": "display_data"
    }
   ],
   "source": [
    "from pyspark.sql.window import Window\n",
    "from pyspark.sql.functions import * \n",
    "import urllib\n",
    "import os"
   ]
  },
  {
   "cell_type": "code",
   "execution_count": null,
   "metadata": {
    "application/vnd.databricks.v1+cell": {
     "cellMetadata": {
      "byteLimit": 2048000,
      "rowLimit": 10000
     },
     "inputWidgets": {},
     "nuid": "8857b594-a2ff-4c73-b284-cf67524feded",
     "showTitle": false,
     "title": ""
    }
   },
   "outputs": [
    {
     "data": {
      "text/html": [
       "<style scoped>\n",
       "  .ansiout {\n",
       "    display: block;\n",
       "    unicode-bidi: embed;\n",
       "    white-space: pre-wrap;\n",
       "    word-wrap: break-word;\n",
       "    word-break: break-all;\n",
       "    font-family: \"Source Code Pro\", \"Menlo\", monospace;;\n",
       "    font-size: 13px;\n",
       "    color: #555;\n",
       "    margin-left: 4px;\n",
       "    line-height: 19px;\n",
       "  }\n",
       "</style>\n",
       "<div class=\"ansiout\">Out[793]: [FileInfo(path=&#39;dbfs:/FileStore/tables/authentication_credentials.csv&#39;, name=&#39;authentication_credentials.csv&#39;, size=202, modificationTime=1687110999000)]</div>"
      ]
     },
     "metadata": {
      "application/vnd.databricks.v1+output": {
       "addedWidgets": {},
       "arguments": {},
       "data": "<div class=\"ansiout\">Out[793]: [FileInfo(path=&#39;dbfs:/FileStore/tables/authentication_credentials.csv&#39;, name=&#39;authentication_credentials.csv&#39;, size=202, modificationTime=1687110999000)]</div>",
       "datasetInfos": [],
       "metadata": {},
       "removedWidgets": [],
       "type": "html"
      }
     },
     "output_type": "display_data"
    }
   ],
   "source": [
    "#AWS cred locations\n",
    "dbutils.fs.ls(\"/FileStore/tables\")"
   ]
  },
  {
   "cell_type": "code",
   "execution_count": null,
   "metadata": {
    "application/vnd.databricks.v1+cell": {
     "cellMetadata": {
      "byteLimit": 2048000,
      "rowLimit": 10000
     },
     "inputWidgets": {},
     "nuid": "6554ab6d-2340-40c5-a9e1-f156cc3fb82e",
     "showTitle": true,
     "title": "Read Credentials"
    }
   },
   "outputs": [
    {
     "data": {
      "text/html": [
       "<style scoped>\n",
       "  .ansiout {\n",
       "    display: block;\n",
       "    unicode-bidi: embed;\n",
       "    white-space: pre-wrap;\n",
       "    word-wrap: break-word;\n",
       "    word-break: break-all;\n",
       "    font-family: \"Source Code Pro\", \"Menlo\", monospace;;\n",
       "    font-size: 13px;\n",
       "    color: #555;\n",
       "    margin-left: 4px;\n",
       "    line-height: 19px;\n",
       "  }\n",
       "</style>\n",
       "<div class=\"ansiout\"></div>"
      ]
     },
     "metadata": {
      "application/vnd.databricks.v1+output": {
       "addedWidgets": {},
       "arguments": {},
       "data": "<div class=\"ansiout\"></div>",
       "datasetInfos": [],
       "metadata": {},
       "removedWidgets": [],
       "type": "html"
      }
     },
     "output_type": "display_data"
    }
   ],
   "source": [
    "# Specify file type to be csv\n",
    "file_type = \"csv\"\n",
    "# Indicates file has first row as the header\n",
    "first_row_is_header = \"true\"\n",
    "# Indicates file has comma as the delimeter\n",
    "delimiter = \",\"\n",
    "# Read the CSV file to spark dataframe\n",
    "aws_keys_df = spark.read.format(file_type)\\\n",
    ".option(\"header\", first_row_is_header)\\\n",
    ".option(\"sep\", delimiter)\\\n",
    ".load(\"/FileStore/tables/authentication_credentials.csv\")\n",
    "\n",
    "# Get the AWS access key and secret key from the spark dataframe\n",
    "ACCESS_KEY = aws_keys_df.where(col('User name')=='databricks-user').select('Access key ID').collect()[0]['Access key ID']\n",
    "SECRET_KEY = aws_keys_df.where(col('User name')=='databricks-user').select('Secret access key').collect()[0]['Secret access key']\n",
    "# Encode the secrete key\n",
    "ENCODED_SECRET_KEY = urllib.parse.quote(string=SECRET_KEY, safe=\"\")\n"
   ]
  },
  {
   "cell_type": "code",
   "execution_count": null,
   "metadata": {
    "application/vnd.databricks.v1+cell": {
     "cellMetadata": {
      "byteLimit": 2048000,
      "rowLimit": 10000
     },
     "inputWidgets": {},
     "nuid": "48d4d575-5a31-4126-b536-b0eb7c731b05",
     "showTitle": true,
     "title": "Mount S3"
    }
   },
   "outputs": [],
   "source": [
    "# AWS S3 bucket name\n",
    "AWS_S3_BUCKET = \"user-12853887c065-bucket\"\n",
    "# Mount name for the bucket\n",
    "MOUNT_NAME = \"/mnt/mount_name\"\n",
    "# Source url\n",
    "SOURCE_URL = \"s3n://{0}:{1}@{2}\".format(ACCESS_KEY, ENCODED_SECRET_KEY, AWS_S3_BUCKET)\n",
    "# Mount the drive\n",
    "#dbutils are not supported outside of databricks notebook\n",
    "# dbutils.fs.mount(SOURCE_URL, MOUNT_NAME) # RUN ONCE ONLY!\n",
    "\n",
    "display(dbutils.fs.ls(\"/mnt/mount_name/topics/12853887c065.pin/partition=0/\"))\n",
    "\n",
    "# dbutils.fs.unmount(\"/mnt/mount_name\") #unmount if it is already mounted"
   ]
  },
  {
   "cell_type": "code",
   "execution_count": null,
   "metadata": {
    "application/vnd.databricks.v1+cell": {
     "cellMetadata": {
      "byteLimit": 2048000,
      "rowLimit": 10000
     },
     "inputWidgets": {},
     "nuid": "4a8b8bfc-f86d-4fd7-91a3-11596a74a85c",
     "showTitle": true,
     "title": "Reading from S3"
    }
   },
   "outputs": [
    {
     "data": {
      "text/html": [
       "<style scoped>\n",
       "  .ansiout {\n",
       "    display: block;\n",
       "    unicode-bidi: embed;\n",
       "    white-space: pre-wrap;\n",
       "    word-wrap: break-word;\n",
       "    word-break: break-all;\n",
       "    font-family: \"Source Code Pro\", \"Menlo\", monospace;;\n",
       "    font-size: 13px;\n",
       "    color: #555;\n",
       "    margin-left: 4px;\n",
       "    line-height: 19px;\n",
       "  }\n",
       "</style>\n",
       "<div class=\"ansiout\">+--------------+--------------------+----------+--------------+--------------------+-----+-----------------+--------------------+--------------------+--------------------+---------------------+--------------------+\n",
       "      category|         description|downloaded|follower_count|           image_src|index|is_image_or_video|         poster_name|       save_location|            tag_list|                title|           unique_id|\n",
       "+--------------+--------------------+----------+--------------+--------------------+-----+-----------------+--------------------+--------------------+--------------------+---------------------+--------------------+\n",
       "       tattoos|Image uploaded by...|         1|           15M|https://i.pinimg....| 8586|            image|         We Heart It|Local save in /da...|Mens Body Tattoos...| Pretty ♥ discover...|c338b1c8-7c6a-4a1...|\n",
       "event-planning|15.1k Likes, 83 C...|         1|           311|https://i.pinimg....| 4858|            image|      Marie Bradford|Local save in /da...|Diy Birthday Deco...| THE EVENT COLLECT...|58101415-9273-431...|\n",
       "event-planning|Wow your guests! ...|         1|            1k|https://i.pinimg....| 4608|            image|Iconica Design | ...|Local save in /da...|Christmas Party B...| Virtual Baby Show...|d234e56f-5b18-4ef...|\n",
       "    home-decor|6,636 Likes, 141 ...|         1|           394|https://i.pinimg....| 6633|            image|        Sarah Martin|Local save in /da...|Diy Kitchen Cabin...| The Cottage Journ...|d136f6bc-840d-44f...|\n",
       "    home-decor|И хоть у шведов л...|         1|          136k|https://i.pinimg....| 6447|            image|PUFIK Interiors &amp;...|Local save in /da...|Cheap Home Decor,...|〚 Warm natural to...|d3039535-5767-426...|\n",
       "+--------------+--------------------+----------+--------------+--------------------+-----+-----------------+--------------------+--------------------+--------------------+---------------------+--------------------+\n",
       "only showing top 5 rows\n",
       "\n",
       "+--------------------+----+--------+---------+-------------------+\n",
       "             country| ind|latitude|longitude|          timestamp|\n",
       "+--------------------+----+--------+---------+-------------------+\n",
       "British Indian Oc...|9314|-42.0773| -163.698|2020-10-20 07:10:24|\n",
       "British Indian Oc...|9455|-82.9272| -150.346|2022-03-15 01:46:32|\n",
       "British Indian Oc...|7088|-86.5675| -149.565|2020-10-16 07:16:02|\n",
       "British Indian Oc...|6945|-14.6744| -75.3714|2022-09-13 22:37:32|\n",
       "British Indian Oc...|5111|-83.7472|  8.65953|2021-04-01 00:56:57|\n",
       "+--------------------+----+--------+---------+-------------------+\n",
       "only showing top 5 rows\n",
       "\n",
       "+---+-------------------+-----------+----+---------+\n",
       "age|        date_joined| first_name| ind|last_name|\n",
       "+---+-------------------+-----------+----+---------+\n",
       " 38|2015-11-12 11:07:24|Christopher|3151|Hernandez|\n",
       " 25|2016-11-24 18:36:05|Christopher|3587|Rodriguez|\n",
       " 27|2016-03-08 13:38:37|Christopher|2015| Bradshaw|\n",
       " 27|2016-03-08 13:38:37|Christopher|2015| Bradshaw|\n",
       " 48|2016-02-27 16:57:44|Christopher|1857| Hamilton|\n",
       "+---+-------------------+-----------+----+---------+\n",
       "only showing top 5 rows\n",
       "\n",
       "</div>"
      ]
     },
     "metadata": {
      "application/vnd.databricks.v1+output": {
       "addedWidgets": {},
       "arguments": {},
       "data": "<div class=\"ansiout\">+--------------+--------------------+----------+--------------+--------------------+-----+-----------------+--------------------+--------------------+--------------------+---------------------+--------------------+\n|      category|         description|downloaded|follower_count|           image_src|index|is_image_or_video|         poster_name|       save_location|            tag_list|                title|           unique_id|\n+--------------+--------------------+----------+--------------+--------------------+-----+-----------------+--------------------+--------------------+--------------------+---------------------+--------------------+\n|       tattoos|Image uploaded by...|         1|           15M|https://i.pinimg....| 8586|            image|         We Heart It|Local save in /da...|Mens Body Tattoos...| Pretty ♥ discover...|c338b1c8-7c6a-4a1...|\n|event-planning|15.1k Likes, 83 C...|         1|           311|https://i.pinimg....| 4858|            image|      Marie Bradford|Local save in /da...|Diy Birthday Deco...| THE EVENT COLLECT...|58101415-9273-431...|\n|event-planning|Wow your guests! ...|         1|            1k|https://i.pinimg....| 4608|            image|Iconica Design | ...|Local save in /da...|Christmas Party B...| Virtual Baby Show...|d234e56f-5b18-4ef...|\n|    home-decor|6,636 Likes, 141 ...|         1|           394|https://i.pinimg....| 6633|            image|        Sarah Martin|Local save in /da...|Diy Kitchen Cabin...| The Cottage Journ...|d136f6bc-840d-44f...|\n|    home-decor|И хоть у шведов л...|         1|          136k|https://i.pinimg....| 6447|            image|PUFIK Interiors &amp;...|Local save in /da...|Cheap Home Decor,...|〚 Warm natural to...|d3039535-5767-426...|\n+--------------+--------------------+----------+--------------+--------------------+-----+-----------------+--------------------+--------------------+--------------------+---------------------+--------------------+\nonly showing top 5 rows\n\n+--------------------+----+--------+---------+-------------------+\n|             country| ind|latitude|longitude|          timestamp|\n+--------------------+----+--------+---------+-------------------+\n|British Indian Oc...|9314|-42.0773| -163.698|2020-10-20 07:10:24|\n|British Indian Oc...|9455|-82.9272| -150.346|2022-03-15 01:46:32|\n|British Indian Oc...|7088|-86.5675| -149.565|2020-10-16 07:16:02|\n|British Indian Oc...|6945|-14.6744| -75.3714|2022-09-13 22:37:32|\n|British Indian Oc...|5111|-83.7472|  8.65953|2021-04-01 00:56:57|\n+--------------------+----+--------+---------+-------------------+\nonly showing top 5 rows\n\n+---+-------------------+-----------+----+---------+\n|age|        date_joined| first_name| ind|last_name|\n+---+-------------------+-----------+----+---------+\n| 38|2015-11-12 11:07:24|Christopher|3151|Hernandez|\n| 25|2016-11-24 18:36:05|Christopher|3587|Rodriguez|\n| 27|2016-03-08 13:38:37|Christopher|2015| Bradshaw|\n| 27|2016-03-08 13:38:37|Christopher|2015| Bradshaw|\n| 48|2016-02-27 16:57:44|Christopher|1857| Hamilton|\n+---+-------------------+-----------+----+---------+\nonly showing top 5 rows\n\n</div>",
       "datasetInfos": [],
       "metadata": {},
       "removedWidgets": [],
       "type": "html"
      }
     },
     "output_type": "display_data"
    }
   ],
   "source": [
    "# # Adding the packages required to get data from S3  \n",
    "os.environ[\"PYSPARK_SUBMIT_ARGS\"] = \"--packages com.amazonaws:aws-java-sdk-s3:1.12.490,org.apache.hadoop:hadoop-aws:3.3.1 pyspark-shell\"\n",
    "\n",
    "# File location and type\n",
    "pin_location = \"/mnt/mount_name/topics/12853887c065.pin/partition=0/*.json\"\n",
    "geo_location = \"/mnt/mount_name/topics/12853887c065.geo/partition=0/*.json\"\n",
    "user_location = \"/mnt/mount_name/topics/12853887c065.user/partition=0/*.json\" \n",
    "file_type = \"json\"\n",
    "\n",
    "# Ask Spark to infer the schema\n",
    "infer_schema = \"true\"\n",
    "\n",
    "# Read in JSONs from mounted S3 bucket\n",
    "df_pin = spark.read.format(file_type) \\\n",
    "    .option(\"inferSchema\", infer_schema) \\\n",
    "    .load(pin_location)\n",
    "df_geo = spark.read.format(file_type) \\\n",
    "    .option(\"inferSchema\", infer_schema) \\\n",
    "    .load(geo_location)\n",
    "df_user = spark.read.format(file_type) \\\n",
    "    .option(\"inferSchema\", infer_schema) \\\n",
    "    .load(user_location)\n",
    "\n",
    "df_pin.show(5, True)\n",
    "df_geo.show(5, True)\n",
    "df_user.show(5, True)"
   ]
  },
  {
   "cell_type": "code",
   "execution_count": null,
   "metadata": {
    "application/vnd.databricks.v1+cell": {
     "cellMetadata": {
      "byteLimit": 2048000,
      "rowLimit": 10000
     },
     "inputWidgets": {},
     "nuid": "42fe38ac-75f7-4b8c-93ba-ed1a972f36b5",
     "showTitle": true,
     "title": "Cleaning Pin post"
    }
   },
   "outputs": [
    {
     "data": {
      "text/html": [
       "<style scoped>\n",
       "  .ansiout {\n",
       "    display: block;\n",
       "    unicode-bidi: embed;\n",
       "    white-space: pre-wrap;\n",
       "    word-wrap: break-word;\n",
       "    word-break: break-all;\n",
       "    font-family: \"Source Code Pro\", \"Menlo\", monospace;;\n",
       "    font-size: 13px;\n",
       "    color: #555;\n",
       "    margin-left: 4px;\n",
       "    line-height: 19px;\n",
       "  }\n",
       "</style>\n",
       "<div class=\"ansiout\">+----+--------------+--------------------+\n",
       " ind|follower_count|       save_location|\n",
       "+----+--------------+--------------------+\n",
       "8586|      15000000|       /data/tattoos|\n",
       "4858|           311|/data/event-planning|\n",
       "4608|          1000|/data/event-planning|\n",
       "6633|           394|    /data/home-decor|\n",
       "6447|        136000|    /data/home-decor|\n",
       "1706|          5000|     /data/christmas|\n",
       "8161|         19000|        /data/quotes|\n",
       "9989|          6000|        /data/travel|\n",
       "1777|          5000|     /data/christmas|\n",
       "1676|           784|     /data/christmas|\n",
       "+----+--------------+--------------------+\n",
       "only showing top 10 rows\n",
       "\n",
       "</div>"
      ]
     },
     "metadata": {
      "application/vnd.databricks.v1+output": {
       "addedWidgets": {},
       "arguments": {},
       "data": "<div class=\"ansiout\">+----+--------------+--------------------+\n| ind|follower_count|       save_location|\n+----+--------------+--------------------+\n|8586|      15000000|       /data/tattoos|\n|4858|           311|/data/event-planning|\n|4608|          1000|/data/event-planning|\n|6633|           394|    /data/home-decor|\n|6447|        136000|    /data/home-decor|\n|1706|          5000|     /data/christmas|\n|8161|         19000|        /data/quotes|\n|9989|          6000|        /data/travel|\n|1777|          5000|     /data/christmas|\n|1676|           784|     /data/christmas|\n+----+--------------+--------------------+\nonly showing top 10 rows\n\n</div>",
       "datasetInfos": [],
       "metadata": {},
       "removedWidgets": [],
       "type": "html"
      }
     },
     "output_type": "display_data"
    }
   ],
   "source": [
    "\n",
    "#Check for null values\n",
    "# df_pin.filter(f.greatest(*[f.col(i).isNull() for i in df_pin.columns])).show()\n",
    "\n",
    "# Perform the necessary transformations on the follower_count to ensure every entry is a number. Make sure the data type of this column is an int.\n",
    "df_pin = df_pin.withColumn(\"follower_count\", \\\n",
    "    when((df_pin.follower_count.contains('k')),\\\n",
    "        1000*regexp_replace(df_pin[\"follower_count\"], 'k', '').cast('int'))\n",
    "    .when((df_pin.follower_count.contains('M')),\\\n",
    "        1000000*regexp_replace(df_pin['follower_count'], 'M', '').cast('int'))\n",
    "    .otherwise(df_pin.follower_count).cast('int'))\n",
    "\n",
    "#Cast Data types on columns\n",
    "df_pin = df_pin.withColumn(\"downloaded\",col(\"downloaded\").cast(\"int\"))\n",
    "df_pin = df_pin.withColumn(\"index\",col(\"index\").cast(\"int\"))\n",
    "\n",
    "# Clean the data in the save_location column to include only the save location path\n",
    "df_pin = df_pin.withColumn('save_location', split(df_pin.save_location, ' ').getItem(3))\n",
    "\n",
    "# Rename the index column to ind.\n",
    "df_pin = df_pin.withColumnRenamed(\"index\",\"ind\")\n",
    "\n",
    "# Reorder the DataFrame columns to have the following column order:\n",
    "new_column = ['ind', 'unique_id', 'title', 'description', 'follower_count', 'poster_name', 'tag_list', 'is_image_or_video', 'image_src', 'save_location', 'category']\n",
    "df_pin = df_pin.select(new_column)\n",
    "\n",
    "df_pin.select('ind','follower_count', 'save_location', ).show(10)"
   ]
  },
  {
   "cell_type": "code",
   "execution_count": null,
   "metadata": {
    "application/vnd.databricks.v1+cell": {
     "cellMetadata": {
      "byteLimit": 2048000,
      "rowLimit": 10000
     },
     "inputWidgets": {},
     "nuid": "e52194b5-2042-442d-9c76-3948453a7d31",
     "showTitle": true,
     "title": "Cleaning geolocation"
    }
   },
   "outputs": [
    {
     "data": {
      "text/html": [
       "<style scoped>\n",
       "  .ansiout {\n",
       "    display: block;\n",
       "    unicode-bidi: embed;\n",
       "    white-space: pre-wrap;\n",
       "    word-wrap: break-word;\n",
       "    word-break: break-all;\n",
       "    font-family: \"Source Code Pro\", \"Menlo\", monospace;;\n",
       "    font-size: 13px;\n",
       "    color: #555;\n",
       "    margin-left: 4px;\n",
       "    line-height: 19px;\n",
       "  }\n",
       "</style>\n",
       "<div class=\"ansiout\">+----+--------------------+--------------------+-------------------+\n",
       " ind|             country|         coordinates|          timestamp|\n",
       "+----+--------------------+--------------------+-------------------+\n",
       "9314|British Indian Oc...|[-42.0773, -163.698]|2020-10-20 07:10:24|\n",
       "9455|British Indian Oc...|[-82.9272, -150.346]|2022-03-15 01:46:32|\n",
       "7088|British Indian Oc...|[-86.5675, -149.565]|2020-10-16 07:16:02|\n",
       "6945|British Indian Oc...|[-14.6744, -75.3714]|2022-09-13 22:37:32|\n",
       "5111|British Indian Oc...| [-83.7472, 8.65953]|2021-04-01 00:56:57|\n",
       "+----+--------------------+--------------------+-------------------+\n",
       "only showing top 5 rows\n",
       "\n",
       "</div>"
      ]
     },
     "metadata": {
      "application/vnd.databricks.v1+output": {
       "addedWidgets": {},
       "arguments": {},
       "data": "<div class=\"ansiout\">+----+--------------------+--------------------+-------------------+\n| ind|             country|         coordinates|          timestamp|\n+----+--------------------+--------------------+-------------------+\n|9314|British Indian Oc...|[-42.0773, -163.698]|2020-10-20 07:10:24|\n|9455|British Indian Oc...|[-82.9272, -150.346]|2022-03-15 01:46:32|\n|7088|British Indian Oc...|[-86.5675, -149.565]|2020-10-16 07:16:02|\n|6945|British Indian Oc...|[-14.6744, -75.3714]|2022-09-13 22:37:32|\n|5111|British Indian Oc...| [-83.7472, 8.65953]|2021-04-01 00:56:57|\n+----+--------------------+--------------------+-------------------+\nonly showing top 5 rows\n\n</div>",
       "datasetInfos": [],
       "metadata": {},
       "removedWidgets": [],
       "type": "html"
      }
     },
     "output_type": "display_data"
    }
   ],
   "source": [
    "#Create a new column coordinates that contains an array based on the latitude and longitude columns\n",
    "df_geo = df_geo.withColumn('coordinates', array('latitude', 'longitude'))\n",
    "\n",
    "#Drop the latitude and longitude columns from the DataFrame\n",
    "df_geo = df_geo.drop('latitude', 'longitude')\n",
    "\n",
    "#Convert the timestamp column from a string to a timestamp data type\n",
    "df_geo = df_geo.withColumn('timestamp', col('timestamp').cast('timestamp'))\n",
    "\n",
    "#Reorder the DataFrame columns to have the following column order:\n",
    "col_order = ['ind', 'country', 'coordinates', 'timestamp']\n",
    "df_geo = df_geo.select(col_order)\n",
    "\n",
    "df_geo.show(5)"
   ]
  },
  {
   "cell_type": "code",
   "execution_count": null,
   "metadata": {
    "application/vnd.databricks.v1+cell": {
     "cellMetadata": {
      "byteLimit": 2048000,
      "rowLimit": 10000
     },
     "inputWidgets": {},
     "nuid": "818844dc-b6e8-4c15-8d45-bbf4767c3eda",
     "showTitle": true,
     "title": "Cleaning Users Info"
    }
   },
   "outputs": [
    {
     "data": {
      "text/html": [
       "<style scoped>\n",
       "  .ansiout {\n",
       "    display: block;\n",
       "    unicode-bidi: embed;\n",
       "    white-space: pre-wrap;\n",
       "    word-wrap: break-word;\n",
       "    word-break: break-all;\n",
       "    font-family: \"Source Code Pro\", \"Menlo\", monospace;;\n",
       "    font-size: 13px;\n",
       "    color: #555;\n",
       "    margin-left: 4px;\n",
       "    line-height: 19px;\n",
       "  }\n",
       "</style>\n",
       "<div class=\"ansiout\">+----+--------------------+---+-------------------+\n",
       " ind|           user_name|age|        date_joined|\n",
       "+----+--------------------+---+-------------------+\n",
       "3151|Christopher Herna...| 38|2015-11-12 11:07:24|\n",
       "3587|Christopher Rodri...| 25|2016-11-24 18:36:05|\n",
       "2015|Christopher Bradshaw| 27|2016-03-08 13:38:37|\n",
       "2015|Christopher Bradshaw| 27|2016-03-08 13:38:37|\n",
       "1857|Christopher Hamilton| 48|2016-02-27 16:57:44|\n",
       "+----+--------------------+---+-------------------+\n",
       "only showing top 5 rows\n",
       "\n",
       "</div>"
      ]
     },
     "metadata": {
      "application/vnd.databricks.v1+output": {
       "addedWidgets": {},
       "arguments": {},
       "data": "<div class=\"ansiout\">+----+--------------------+---+-------------------+\n| ind|           user_name|age|        date_joined|\n+----+--------------------+---+-------------------+\n|3151|Christopher Herna...| 38|2015-11-12 11:07:24|\n|3587|Christopher Rodri...| 25|2016-11-24 18:36:05|\n|2015|Christopher Bradshaw| 27|2016-03-08 13:38:37|\n|2015|Christopher Bradshaw| 27|2016-03-08 13:38:37|\n|1857|Christopher Hamilton| 48|2016-02-27 16:57:44|\n+----+--------------------+---+-------------------+\nonly showing top 5 rows\n\n</div>",
       "datasetInfos": [],
       "metadata": {},
       "removedWidgets": [],
       "type": "html"
      }
     },
     "output_type": "display_data"
    }
   ],
   "source": [
    "#Create a new column user_name that concatenates the information found in the first_name and last_name columns\n",
    "df_user = df_user.withColumn('user_name', concat_ws(' ', 'first_name', 'last_name'))\n",
    "\n",
    "#Drop the first_name and last_name columns from the DataFrame\n",
    "df_user = df_user.drop('first_name', 'last_name')\n",
    "\n",
    "#Convert the date_joined column from a string to a timestamp data type\n",
    "df_user = df_user.withColumn('date_joined', col('date_joined').cast('timestamp'))\n",
    "\n",
    "# Reorder the DataFrame columns to have the following column order:\n",
    "user_col = ['ind', 'user_name', 'age', 'date_joined']\n",
    "df_user = df_user.select(user_col)\n",
    "df_user.show(5)"
   ]
  },
  {
   "cell_type": "code",
   "execution_count": null,
   "metadata": {
    "application/vnd.databricks.v1+cell": {
     "cellMetadata": {
      "byteLimit": 2048000,
      "rowLimit": 10000
     },
     "inputWidgets": {},
     "nuid": "4cb9bebd-2c0d-4b4c-b6cf-6c4addc000ab",
     "showTitle": true,
     "title": "Task 4"
    }
   },
   "outputs": [
    {
     "data": {
      "text/html": [
       "<style scoped>\n",
       "  .ansiout {\n",
       "    display: block;\n",
       "    unicode-bidi: embed;\n",
       "    white-space: pre-wrap;\n",
       "    word-wrap: break-word;\n",
       "    word-break: break-all;\n",
       "    font-family: \"Source Code Pro\", \"Menlo\", monospace;;\n",
       "    font-size: 13px;\n",
       "    color: #555;\n",
       "    margin-left: 4px;\n",
       "    line-height: 19px;\n",
       "  }\n",
       "</style>\n",
       "<div class=\"ansiout\">+--------------------+--------------+--------------+\n",
       "             country|      category|category_count|\n",
       "+--------------------+--------------+--------------+\n",
       "             Albania|  mens-fashion|           151|\n",
       "             Armenia|diy-and-crafts|            81|\n",
       "            Colombia|       finance|            66|\n",
       "             Algeria|        quotes|            51|\n",
       "             Albania|           art|            50|\n",
       "Cocos (Keeling) I...|      vehicles|            36|\n",
       "       French Guiana|        quotes|            36|\n",
       "            Anguilla|    home-decor|            36|\n",
       "             Albania|diy-and-crafts|            34|\n",
       "          Azerbaijan|       finance|            33|\n",
       "+--------------------+--------------+--------------+\n",
       "only showing top 10 rows\n",
       "\n",
       "</div>"
      ]
     },
     "metadata": {
      "application/vnd.databricks.v1+output": {
       "addedWidgets": {},
       "arguments": {},
       "data": "<div class=\"ansiout\">+--------------------+--------------+--------------+\n|             country|      category|category_count|\n+--------------------+--------------+--------------+\n|             Albania|  mens-fashion|           151|\n|             Armenia|diy-and-crafts|            81|\n|            Colombia|       finance|            66|\n|             Algeria|        quotes|            51|\n|             Albania|           art|            50|\n|Cocos (Keeling) I...|      vehicles|            36|\n|       French Guiana|        quotes|            36|\n|            Anguilla|    home-decor|            36|\n|             Albania|diy-and-crafts|            34|\n|          Azerbaijan|       finance|            33|\n+--------------------+--------------+--------------+\nonly showing top 10 rows\n\n</div>",
       "datasetInfos": [],
       "metadata": {},
       "removedWidgets": [],
       "type": "html"
      }
     },
     "output_type": "display_data"
    }
   ],
   "source": [
    "# Find the most popular Pinterest category people post to based on their country.\n",
    "# First join the dataframe\n",
    "df_pin_geo = df_pin.join(df_geo, df_pin.ind==df_geo.ind, 'inner')\n",
    "\n",
    "#Groupby country and category\n",
    "df_pin_geo.groupby('country','category') \\\n",
    "    .agg(count('category')\\\n",
    "        .alias('category_count'))\\\n",
    "    .sort('category_count', ascending=False)\\\n",
    "    .show(10)\n",
    "\n",
    "# df_pin_geo.show()"
   ]
  },
  {
   "cell_type": "code",
   "execution_count": null,
   "metadata": {
    "application/vnd.databricks.v1+cell": {
     "cellMetadata": {
      "byteLimit": 2048000,
      "rowLimit": 10000
     },
     "inputWidgets": {},
     "nuid": "1dfd5bdb-8f55-4857-abde-434474765781",
     "showTitle": true,
     "title": "Task 5 with SQL"
    }
   },
   "outputs": [
    {
     "data": {
      "text/html": [
       "<style scoped>\n",
       "  .ansiout {\n",
       "    display: block;\n",
       "    unicode-bidi: embed;\n",
       "    white-space: pre-wrap;\n",
       "    word-wrap: break-word;\n",
       "    word-break: break-all;\n",
       "    font-family: \"Source Code Pro\", \"Menlo\", monospace;;\n",
       "    font-size: 13px;\n",
       "    color: #555;\n",
       "    margin-left: 4px;\n",
       "    line-height: 19px;\n",
       "  }\n",
       "</style>\n",
       "<div class=\"ansiout\">+---------+--------------+--------------+\n",
       "post_year|      category|category_count|\n",
       "+---------+--------------+--------------+\n",
       "     2018|        beauty|            84|\n",
       "     2018|diy-and-crafts|            76|\n",
       "     2018|  mens-fashion|            65|\n",
       "     2018|        travel|            61|\n",
       "     2018|        quotes|            54|\n",
       "     2018|     education|            54|\n",
       "     2018|     christmas|            51|\n",
       "     2018|event-planning|            46|\n",
       "     2018|           art|            38|\n",
       "     2018|       tattoos|            35|\n",
       "+---------+--------------+--------------+\n",
       "only showing top 10 rows\n",
       "\n",
       "</div>"
      ]
     },
     "metadata": {
      "application/vnd.databricks.v1+output": {
       "addedWidgets": {},
       "arguments": {},
       "data": "<div class=\"ansiout\">+---------+--------------+--------------+\n|post_year|      category|category_count|\n+---------+--------------+--------------+\n|     2018|        beauty|            84|\n|     2018|diy-and-crafts|            76|\n|     2018|  mens-fashion|            65|\n|     2018|        travel|            61|\n|     2018|        quotes|            54|\n|     2018|     education|            54|\n|     2018|     christmas|            51|\n|     2018|event-planning|            46|\n|     2018|           art|            38|\n|     2018|       tattoos|            35|\n+---------+--------------+--------------+\nonly showing top 10 rows\n\n</div>",
       "datasetInfos": [],
       "metadata": {},
       "removedWidgets": [],
       "type": "html"
      }
     },
     "output_type": "display_data"
    }
   ],
   "source": [
    "# Find how many posts each category had between 2018 and 2022.\n",
    "\n",
    "#Create temporary view \n",
    "df_pin_geo.createOrReplaceTempView(\"pin_geo\")\n",
    "\n",
    "# Use spark sql queries\n",
    "spark.sql(\\\n",
    "    'SELECT\\\n",
    "        YEAR(timestamp) as post_year,\\\n",
    "        category,\\\n",
    "        count(category) category_count\\\n",
    "    FROM pin_geo\\\n",
    "    WHERE YEAR(timestamp) BETWEEN 2018 AND 2022\\\n",
    "    GROUP BY post_year, category\\\n",
    "    ORDER BY post_year, category_count DESC')\\\n",
    "    .show(10)"
   ]
  },
  {
   "cell_type": "code",
   "execution_count": null,
   "metadata": {
    "application/vnd.databricks.v1+cell": {
     "cellMetadata": {
      "byteLimit": 2048000,
      "rowLimit": 10000
     },
     "inputWidgets": {},
     "nuid": "0ec40328-8564-47cc-b03d-a85d5b2d62fb",
     "showTitle": true,
     "title": "Task 5 with window function"
    }
   },
   "outputs": [
    {
     "data": {
      "text/html": [
       "<style scoped>\n",
       "  .ansiout {\n",
       "    display: block;\n",
       "    unicode-bidi: embed;\n",
       "    white-space: pre-wrap;\n",
       "    word-wrap: break-word;\n",
       "    word-break: break-all;\n",
       "    font-family: \"Source Code Pro\", \"Menlo\", monospace;;\n",
       "    font-size: 13px;\n",
       "    color: #555;\n",
       "    margin-left: 4px;\n",
       "    line-height: 19px;\n",
       "  }\n",
       "</style>\n",
       "<div class=\"ansiout\">+---------+--------------+--------------+\n",
       "post_year|      category|category_count|\n",
       "+---------+--------------+--------------+\n",
       "     2018|           art|             1|\n",
       "     2019|           art|             2|\n",
       "     2019|           art|             3|\n",
       "     2021|           art|             4|\n",
       "     2021|           art|             5|\n",
       "     2021|           art|             6|\n",
       "     2022|           art|             7|\n",
       "     2018|        beauty|             1|\n",
       "     2018|        beauty|             2|\n",
       "     2018|        beauty|             3|\n",
       "     2018|        beauty|             4|\n",
       "     2018|        beauty|             5|\n",
       "     2019|        beauty|             6|\n",
       "     2020|        beauty|             7|\n",
       "     2022|        beauty|             8|\n",
       "     2018|     christmas|             1|\n",
       "     2019|     christmas|             2|\n",
       "     2019|     christmas|             3|\n",
       "     2019|     christmas|             4|\n",
       "     2019|     christmas|             5|\n",
       "     2019|     christmas|             6|\n",
       "     2020|     christmas|             7|\n",
       "     2020|     christmas|             8|\n",
       "     2021|     christmas|             9|\n",
       "     2022|     christmas|            10|\n",
       "     2022|     christmas|            11|\n",
       "     2018|diy-and-crafts|             1|\n",
       "     2018|diy-and-crafts|             2|\n",
       "     2019|diy-and-crafts|             3|\n",
       "     2019|diy-and-crafts|             4|\n",
       "     2020|diy-and-crafts|             5|\n",
       "     2020|diy-and-crafts|             9|\n",
       "     2020|diy-and-crafts|             9|\n",
       "     2020|diy-and-crafts|             9|\n",
       "     2020|diy-and-crafts|             9|\n",
       "     2020|diy-and-crafts|            10|\n",
       "     2021|diy-and-crafts|            11|\n",
       "     2021|diy-and-crafts|            12|\n",
       "     2021|diy-and-crafts|            13|\n",
       "     2022|diy-and-crafts|            14|\n",
       "     2022|diy-and-crafts|            15|\n",
       "     2022|diy-and-crafts|            16|\n",
       "     2018|     education|             1|\n",
       "     2018|     education|             2|\n",
       "     2019|     education|             3|\n",
       "     2019|     education|             4|\n",
       "     2019|     education|             5|\n",
       "     2019|     education|             6|\n",
       "     2019|     education|             7|\n",
       "     2020|     education|             8|\n",
       "     2019|event-planning|             1|\n",
       "     2021|event-planning|             2|\n",
       "     2021|event-planning|             3|\n",
       "     2021|event-planning|             4|\n",
       "     2021|event-planning|             5|\n",
       "     2022|event-planning|             6|\n",
       "     2022|event-planning|             7|\n",
       "     2019|       finance|             1|\n",
       "     2019|       finance|             2|\n",
       "     2020|       finance|             3|\n",
       "     2020|       finance|             4|\n",
       "     2021|       finance|             8|\n",
       "     2021|       finance|             8|\n",
       "     2021|       finance|             8|\n",
       "     2021|       finance|             8|\n",
       "     2021|       finance|             9|\n",
       "     2021|       finance|            10|\n",
       "     2021|       finance|            11|\n",
       "     2022|       finance|            12|\n",
       "     2018|    home-decor|             1|\n",
       "     2019|    home-decor|             2|\n",
       "     2019|    home-decor|             3|\n",
       "     2020|    home-decor|             4|\n",
       "     2020|    home-decor|             5|\n",
       "     2020|    home-decor|             6|\n",
       "     2021|    home-decor|             7|\n",
       "     2021|    home-decor|             8|\n",
       "     2018|  mens-fashion|             1|\n",
       "     2018|  mens-fashion|             2|\n",
       "     2018|  mens-fashion|             3|\n",
       "     2019|  mens-fashion|             4|\n",
       "     2020|  mens-fashion|             5|\n",
       "     2020|  mens-fashion|             6|\n",
       "     2020|  mens-fashion|            10|\n",
       "     2020|  mens-fashion|            10|\n",
       "     2020|  mens-fashion|            10|\n",
       "     2020|  mens-fashion|            10|\n",
       "     2021|  mens-fashion|            11|\n",
       "     2021|  mens-fashion|            12|\n",
       "     2021|  mens-fashion|            13|\n",
       "     2022|  mens-fashion|            14|\n",
       "     2022|  mens-fashion|            15|\n",
       "     2018|        quotes|             1|\n",
       "     2019|        quotes|             5|\n",
       "     2019|        quotes|             5|\n",
       "     2019|        quotes|             5|\n",
       "     2019|        quotes|             5|\n",
       "     2019|       tattoos|             1|\n",
       "     2020|       tattoos|             2|\n",
       "     2020|       tattoos|             3|\n",
       "+---------+--------------+--------------+\n",
       "only showing top 100 rows\n",
       "\n",
       "</div>"
      ]
     },
     "metadata": {
      "application/vnd.databricks.v1+output": {
       "addedWidgets": {},
       "arguments": {},
       "data": "<div class=\"ansiout\">+---------+--------------+--------------+\n|post_year|      category|category_count|\n+---------+--------------+--------------+\n|     2018|           art|             1|\n|     2019|           art|             2|\n|     2019|           art|             3|\n|     2021|           art|             4|\n|     2021|           art|             5|\n|     2021|           art|             6|\n|     2022|           art|             7|\n|     2018|        beauty|             1|\n|     2018|        beauty|             2|\n|     2018|        beauty|             3|\n|     2018|        beauty|             4|\n|     2018|        beauty|             5|\n|     2019|        beauty|             6|\n|     2020|        beauty|             7|\n|     2022|        beauty|             8|\n|     2018|     christmas|             1|\n|     2019|     christmas|             2|\n|     2019|     christmas|             3|\n|     2019|     christmas|             4|\n|     2019|     christmas|             5|\n|     2019|     christmas|             6|\n|     2020|     christmas|             7|\n|     2020|     christmas|             8|\n|     2021|     christmas|             9|\n|     2022|     christmas|            10|\n|     2022|     christmas|            11|\n|     2018|diy-and-crafts|             1|\n|     2018|diy-and-crafts|             2|\n|     2019|diy-and-crafts|             3|\n|     2019|diy-and-crafts|             4|\n|     2020|diy-and-crafts|             5|\n|     2020|diy-and-crafts|             9|\n|     2020|diy-and-crafts|             9|\n|     2020|diy-and-crafts|             9|\n|     2020|diy-and-crafts|             9|\n|     2020|diy-and-crafts|            10|\n|     2021|diy-and-crafts|            11|\n|     2021|diy-and-crafts|            12|\n|     2021|diy-and-crafts|            13|\n|     2022|diy-and-crafts|            14|\n|     2022|diy-and-crafts|            15|\n|     2022|diy-and-crafts|            16|\n|     2018|     education|             1|\n|     2018|     education|             2|\n|     2019|     education|             3|\n|     2019|     education|             4|\n|     2019|     education|             5|\n|     2019|     education|             6|\n|     2019|     education|             7|\n|     2020|     education|             8|\n|     2019|event-planning|             1|\n|     2021|event-planning|             2|\n|     2021|event-planning|             3|\n|     2021|event-planning|             4|\n|     2021|event-planning|             5|\n|     2022|event-planning|             6|\n|     2022|event-planning|             7|\n|     2019|       finance|             1|\n|     2019|       finance|             2|\n|     2020|       finance|             3|\n|     2020|       finance|             4|\n|     2021|       finance|             8|\n|     2021|       finance|             8|\n|     2021|       finance|             8|\n|     2021|       finance|             8|\n|     2021|       finance|             9|\n|     2021|       finance|            10|\n|     2021|       finance|            11|\n|     2022|       finance|            12|\n|     2018|    home-decor|             1|\n|     2019|    home-decor|             2|\n|     2019|    home-decor|             3|\n|     2020|    home-decor|             4|\n|     2020|    home-decor|             5|\n|     2020|    home-decor|             6|\n|     2021|    home-decor|             7|\n|     2021|    home-decor|             8|\n|     2018|  mens-fashion|             1|\n|     2018|  mens-fashion|             2|\n|     2018|  mens-fashion|             3|\n|     2019|  mens-fashion|             4|\n|     2020|  mens-fashion|             5|\n|     2020|  mens-fashion|             6|\n|     2020|  mens-fashion|            10|\n|     2020|  mens-fashion|            10|\n|     2020|  mens-fashion|            10|\n|     2020|  mens-fashion|            10|\n|     2021|  mens-fashion|            11|\n|     2021|  mens-fashion|            12|\n|     2021|  mens-fashion|            13|\n|     2022|  mens-fashion|            14|\n|     2022|  mens-fashion|            15|\n|     2018|        quotes|             1|\n|     2019|        quotes|             5|\n|     2019|        quotes|             5|\n|     2019|        quotes|             5|\n|     2019|        quotes|             5|\n|     2019|       tattoos|             1|\n|     2020|       tattoos|             2|\n|     2020|       tattoos|             3|\n+---------+--------------+--------------+\nonly showing top 100 rows\n\n</div>",
       "datasetInfos": [],
       "metadata": {},
       "removedWidgets": [],
       "type": "html"
      }
     },
     "output_type": "display_data"
    }
   ],
   "source": [
    "# Find how many posts each category had between 2018 and 2022.\n",
    "\n",
    "windowSpec = Window.partitionBy(df_pin_geo.category)\\\n",
    "                    .orderBy(df_pin_geo.timestamp)\n",
    "\n",
    "df_pin_geo.filter((year('timestamp') >= 2018) & (year('timestamp') <= 2022))\\\n",
    "    .select(\n",
    "        year('timestamp') \\\n",
    "        .alias('post_year'), 'category', count('category') \\\n",
    "        .over(windowSpec) \\\n",
    "        .alias('category_count')) \\\n",
    "    .show(10)"
   ]
  },
  {
   "cell_type": "code",
   "execution_count": null,
   "metadata": {
    "application/vnd.databricks.v1+cell": {
     "cellMetadata": {
      "byteLimit": 2048000,
      "rowLimit": 10000
     },
     "inputWidgets": {},
     "nuid": "4a59c535-2aec-4e03-8133-425ebe9324f3",
     "showTitle": true,
     "title": "Task 6 with SQL"
    }
   },
   "outputs": [
    {
     "data": {
      "text/html": [
       "<style scoped>\n",
       "  .ansiout {\n",
       "    display: block;\n",
       "    unicode-bidi: embed;\n",
       "    white-space: pre-wrap;\n",
       "    word-wrap: break-word;\n",
       "    word-break: break-all;\n",
       "    font-family: \"Source Code Pro\", \"Menlo\", monospace;;\n",
       "    font-size: 13px;\n",
       "    color: #555;\n",
       "    margin-left: 4px;\n",
       "    line-height: 19px;\n",
       "  }\n",
       "</style>\n",
       "<div class=\"ansiout\">+-------+--------------+\n",
       "country|follower_count|\n",
       "+-------+--------------+\n",
       "Armenia|       1866000|\n",
       "+-------+--------------+\n",
       "\n",
       "</div>"
      ]
     },
     "metadata": {
      "application/vnd.databricks.v1+output": {
       "addedWidgets": {},
       "arguments": {},
       "data": "<div class=\"ansiout\">+-------+--------------+\n|country|follower_count|\n+-------+--------------+\n|Armenia|       1866000|\n+-------+--------------+\n\n</div>",
       "datasetInfos": [],
       "metadata": {},
       "removedWidgets": [],
       "type": "html"
      }
     },
     "output_type": "display_data"
    }
   ],
   "source": [
    "#Find the user with most followers\n",
    "\n",
    "# Step 1: For each country find the user with the most followers.\n",
    "spark.sql(\"WITH most_follower_table AS (\\\n",
    "                SELECT pin_geo.country,\\\n",
    "                    pin_geo.poster_name,\\\n",
    "                    SUM(pin_geo.follower_count) total_follower\\\n",
    "                FROM pin_geo\\\n",
    "                GROUP BY pin_geo.country, pin_geo.poster_name\\\n",
    "        )\\\n",
    "    SELECT country,\\\n",
    "        sum(total_follower) follower_count\\\n",
    "    FROM most_follower_table\\\n",
    "    GROUP BY country\\\n",
    "    ORDER BY follower_count DESC\\\n",
    "    LIMIT 1\").show()"
   ]
  },
  {
   "cell_type": "code",
   "execution_count": null,
   "metadata": {
    "application/vnd.databricks.v1+cell": {
     "cellMetadata": {
      "byteLimit": 2048000,
      "rowLimit": 10000
     },
     "inputWidgets": {},
     "nuid": "d1a10cfe-61b0-479f-ab32-038595286ec8",
     "showTitle": true,
     "title": "Task 6 with Groupby"
    }
   },
   "outputs": [
    {
     "data": {
      "text/html": [
       "<style scoped>\n",
       "  .ansiout {\n",
       "    display: block;\n",
       "    unicode-bidi: embed;\n",
       "    white-space: pre-wrap;\n",
       "    word-wrap: break-word;\n",
       "    word-break: break-all;\n",
       "    font-family: \"Source Code Pro\", \"Menlo\", monospace;;\n",
       "    font-size: 13px;\n",
       "    color: #555;\n",
       "    margin-left: 4px;\n",
       "    line-height: 19px;\n",
       "  }\n",
       "</style>\n",
       "<div class=\"ansiout\">+-------+--------------+\n",
       "country|follower_count|\n",
       "+-------+--------------+\n",
       "Armenia|       1866000|\n",
       "+-------+--------------+\n",
       "only showing top 1 row\n",
       "\n",
       "</div>"
      ]
     },
     "metadata": {
      "application/vnd.databricks.v1+output": {
       "addedWidgets": {},
       "arguments": {},
       "data": "<div class=\"ansiout\">+-------+--------------+\n|country|follower_count|\n+-------+--------------+\n|Armenia|       1866000|\n+-------+--------------+\nonly showing top 1 row\n\n</div>",
       "datasetInfos": [],
       "metadata": {},
       "removedWidgets": [],
       "type": "html"
      }
     },
     "output_type": "display_data"
    }
   ],
   "source": [
    "df_pin_geo.select(df_pin_geo.country, df_pin_geo.poster_name, df_pin_geo.follower_count)\\\n",
    "            .groupby(df_pin_geo.country)\\\n",
    "            .agg(sum(df_pin_geo.follower_count).alias('follower_count'))\\\n",
    "            .orderBy(col('follower_count').desc()).show(1)"
   ]
  },
  {
   "cell_type": "code",
   "execution_count": null,
   "metadata": {
    "application/vnd.databricks.v1+cell": {
     "cellMetadata": {
      "byteLimit": 2048000,
      "rowLimit": 10000
     },
     "inputWidgets": {},
     "nuid": "533c0e5c-50c5-428a-b148-7bc0b06e3fd3",
     "showTitle": true,
     "title": "Task 7 with SQL"
    }
   },
   "outputs": [
    {
     "data": {
      "text/html": [
       "<style scoped>\n",
       "  .ansiout {\n",
       "    display: block;\n",
       "    unicode-bidi: embed;\n",
       "    white-space: pre-wrap;\n",
       "    word-wrap: break-word;\n",
       "    word-break: break-all;\n",
       "    font-family: \"Source Code Pro\", \"Menlo\", monospace;;\n",
       "    font-size: 13px;\n",
       "    color: #555;\n",
       "    margin-left: 4px;\n",
       "    line-height: 19px;\n",
       "  }\n",
       "</style>\n",
       "<div class=\"ansiout\">+---------+--------------+--------------+\n",
       "age_group|      category|category_count|\n",
       "+---------+--------------+--------------+\n",
       "    18-24|  mens-fashion|            11|\n",
       "    18-24|     christmas|             7|\n",
       "    18-24|diy-and-crafts|             5|\n",
       "    18-24|event-planning|             5|\n",
       "    18-24|    home-decor|             5|\n",
       "    18-24|        travel|             4|\n",
       "    18-24|           art|             4|\n",
       "    18-24|       tattoos|             4|\n",
       "    18-24|     education|             3|\n",
       "    18-24|       finance|             3|\n",
       "    18-24|        beauty|             3|\n",
       "    18-24|        quotes|             1|\n",
       "    18-24|      vehicles|             1|\n",
       "    25-35|diy-and-crafts|             8|\n",
       "    25-35|        travel|             4|\n",
       "    25-35|        quotes|             4|\n",
       "    25-35|           art|             3|\n",
       "    25-35|     education|             3|\n",
       "    25-35|       finance|             3|\n",
       "    25-35|  mens-fashion|             3|\n",
       "+---------+--------------+--------------+\n",
       "only showing top 20 rows\n",
       "\n",
       "</div>"
      ]
     },
     "metadata": {
      "application/vnd.databricks.v1+output": {
       "addedWidgets": {},
       "arguments": {},
       "data": "<div class=\"ansiout\">+---------+--------------+--------------+\n|age_group|      category|category_count|\n+---------+--------------+--------------+\n|    18-24|  mens-fashion|            11|\n|    18-24|     christmas|             7|\n|    18-24|diy-and-crafts|             5|\n|    18-24|event-planning|             5|\n|    18-24|    home-decor|             5|\n|    18-24|        travel|             4|\n|    18-24|           art|             4|\n|    18-24|       tattoos|             4|\n|    18-24|     education|             3|\n|    18-24|       finance|             3|\n|    18-24|        beauty|             3|\n|    18-24|        quotes|             1|\n|    18-24|      vehicles|             1|\n|    25-35|diy-and-crafts|             8|\n|    25-35|        travel|             4|\n|    25-35|        quotes|             4|\n|    25-35|           art|             3|\n|    25-35|     education|             3|\n|    25-35|       finance|             3|\n|    25-35|  mens-fashion|             3|\n+---------+--------------+--------------+\nonly showing top 20 rows\n\n</div>",
       "datasetInfos": [],
       "metadata": {},
       "removedWidgets": [],
       "type": "html"
      }
     },
     "output_type": "display_data"
    }
   ],
   "source": [
    "# What is the most popular category people post to based on the following age groups: 18-24, 25-35, 36-50, +50\n",
    "#Join df_pin and df_user\n",
    "df_pin_user = df_pin.join(df_user, df_pin.ind==df_user.ind, 'inner')\n",
    "\n",
    "#Create temporary view \n",
    "df_pin_user.createOrReplaceTempView(\"pin_user\")\n",
    "spark.sql(\"SELECT\\\n",
    "    CASE\\\n",
    "        WHEN age BETWEEN 18 AND 24 THEN '18-24' \\\n",
    "        WHEN age BETWEEN 25 AND 35 THEN '25-35'\\\n",
    "        WHEN age BETWEEN 36 AND 50 THEN '36-50'\\\n",
    "        WHEN age > 50 THEN '50+'\\\n",
    "    END AS age_group,\\\n",
    "    category,\\\n",
    "    COUNT(category) AS category_count\\\n",
    "    FROM pin_user\\\n",
    "    GROUP BY age_group, category\\\n",
    "    ORDER BY age_group ASC, category_count DESC\").show(10)"
   ]
  },
  {
   "cell_type": "code",
   "execution_count": null,
   "metadata": {
    "application/vnd.databricks.v1+cell": {
     "cellMetadata": {
      "byteLimit": 2048000,
      "rowLimit": 10000
     },
     "inputWidgets": {},
     "nuid": "ee19deea-9b03-41af-b4e2-dbff6ca09895",
     "showTitle": false,
     "title": ""
    }
   },
   "outputs": [
    {
     "data": {
      "text/html": [
       "<style scoped>\n",
       "  .ansiout {\n",
       "    display: block;\n",
       "    unicode-bidi: embed;\n",
       "    white-space: pre-wrap;\n",
       "    word-wrap: break-word;\n",
       "    word-break: break-all;\n",
       "    font-family: \"Source Code Pro\", \"Menlo\", monospace;;\n",
       "    font-size: 13px;\n",
       "    color: #555;\n",
       "    margin-left: 4px;\n",
       "    line-height: 19px;\n",
       "  }\n",
       "</style>\n",
       "<div class=\"ansiout\">+---------+--------------+-------------------+\n",
       "age_group|      category|max(category_count)|\n",
       "+---------+--------------+-------------------+\n",
       "    25-35|event-planning|                  1|\n",
       "    18-24|        travel|                  4|\n",
       "    36-50|     education|                  1|\n",
       "    25-35|           art|                  3|\n",
       "    25-35|       finance|                  3|\n",
       "    18-24|     education|                  3|\n",
       "      50+|       finance|                  2|\n",
       "    18-24|diy-and-crafts|                  5|\n",
       "    18-24|event-planning|                  5|\n",
       "    25-35|     education|                  3|\n",
       "    36-50|     christmas|                  3|\n",
       "    25-35|diy-and-crafts|                  8|\n",
       "      50+|    home-decor|                  1|\n",
       "    36-50|diy-and-crafts|                  3|\n",
       "      50+|        beauty|                  2|\n",
       "    25-35|        travel|                  4|\n",
       "    18-24|     christmas|                  7|\n",
       "    18-24|  mens-fashion|                 11|\n",
       "    18-24|       finance|                  3|\n",
       "    36-50|    home-decor|                  2|\n",
       "+---------+--------------+-------------------+\n",
       "only showing top 20 rows\n",
       "\n",
       "</div>"
      ]
     },
     "metadata": {
      "application/vnd.databricks.v1+output": {
       "addedWidgets": {},
       "arguments": {},
       "data": "<div class=\"ansiout\">+---------+--------------+-------------------+\n|age_group|      category|max(category_count)|\n+---------+--------------+-------------------+\n|    25-35|event-planning|                  1|\n|    18-24|        travel|                  4|\n|    36-50|     education|                  1|\n|    25-35|           art|                  3|\n|    25-35|       finance|                  3|\n|    18-24|     education|                  3|\n|      50+|       finance|                  2|\n|    18-24|diy-and-crafts|                  5|\n|    18-24|event-planning|                  5|\n|    25-35|     education|                  3|\n|    36-50|     christmas|                  3|\n|    25-35|diy-and-crafts|                  8|\n|      50+|    home-decor|                  1|\n|    36-50|diy-and-crafts|                  3|\n|      50+|        beauty|                  2|\n|    25-35|        travel|                  4|\n|    18-24|     christmas|                  7|\n|    18-24|  mens-fashion|                 11|\n|    18-24|       finance|                  3|\n|    36-50|    home-decor|                  2|\n+---------+--------------+-------------------+\nonly showing top 20 rows\n\n</div>",
       "datasetInfos": [],
       "metadata": {},
       "removedWidgets": [],
       "type": "html"
      }
     },
     "output_type": "display_data"
    }
   ],
   "source": [
    "spark.sql(\"\\\n",
    "        WITH category_table AS (\\\n",
    "            SELECT\\\n",
    "                CASE\\\n",
    "                    WHEN age BETWEEN 18 AND 24 THEN '18-24' \\\n",
    "                    WHEN age BETWEEN 25 AND 35 THEN '25-35'\\\n",
    "                    WHEN age BETWEEN 36 AND 50 THEN '36-50'\\\n",
    "                    WHEN age > 50 THEN '50+'\\\n",
    "                END AS age_group,\\\n",
    "                category,\\\n",
    "                COUNT(category) category_count\\\n",
    "            FROM pin_user\\\n",
    "            GROUP BY age_group, category\\\n",
    "            )\\\n",
    "        SELECT\\\n",
    "            age_group,\\\n",
    "            category,\\\n",
    "            MAX(category_count)\\\n",
    "        FROM category_table\\\n",
    "        GROUP BY age_group, category\"\n",
    "    ).show(10)"
   ]
  },
  {
   "cell_type": "code",
   "execution_count": null,
   "metadata": {
    "application/vnd.databricks.v1+cell": {
     "cellMetadata": {
      "byteLimit": 2048000,
      "rowLimit": 10000
     },
     "inputWidgets": {},
     "nuid": "593e1f99-9910-467f-b1f1-991a90b9b302",
     "showTitle": true,
     "title": "Task 7 with Window function"
    }
   },
   "outputs": [
    {
     "data": {
      "text/html": [
       "<style scoped>\n",
       "  .ansiout {\n",
       "    display: block;\n",
       "    unicode-bidi: embed;\n",
       "    white-space: pre-wrap;\n",
       "    word-wrap: break-word;\n",
       "    word-break: break-all;\n",
       "    font-family: \"Source Code Pro\", \"Menlo\", monospace;;\n",
       "    font-size: 13px;\n",
       "    color: #555;\n",
       "    margin-left: 4px;\n",
       "    line-height: 19px;\n",
       "  }\n",
       "</style>\n",
       "<div class=\"ansiout\">+---------+--------------+--------------+\n",
       "age_group|      category|category_count|\n",
       "+---------+--------------+--------------+\n",
       "    18-25|           art|             4|\n",
       "    18-25|           art|             4|\n",
       "    18-25|           art|             4|\n",
       "    18-25|           art|             4|\n",
       "    18-25|        beauty|             7|\n",
       "    18-25|        beauty|             7|\n",
       "    18-25|        beauty|             7|\n",
       "    18-25|     christmas|            14|\n",
       "    18-25|     christmas|            14|\n",
       "    18-25|     christmas|            14|\n",
       "    18-25|     christmas|            14|\n",
       "    18-25|     christmas|            14|\n",
       "    18-25|     christmas|            14|\n",
       "    18-25|     christmas|            14|\n",
       "    18-25|diy-and-crafts|            19|\n",
       "    18-25|diy-and-crafts|            19|\n",
       "    18-25|diy-and-crafts|            19|\n",
       "    18-25|diy-and-crafts|            19|\n",
       "    18-25|diy-and-crafts|            19|\n",
       "    18-25|     education|            22|\n",
       "+---------+--------------+--------------+\n",
       "only showing top 20 rows\n",
       "\n",
       "</div>"
      ]
     },
     "metadata": {
      "application/vnd.databricks.v1+output": {
       "addedWidgets": {},
       "arguments": {},
       "data": "<div class=\"ansiout\">+---------+--------------+--------------+\n|age_group|      category|category_count|\n+---------+--------------+--------------+\n|    18-25|           art|             4|\n|    18-25|           art|             4|\n|    18-25|           art|             4|\n|    18-25|           art|             4|\n|    18-25|        beauty|             7|\n|    18-25|        beauty|             7|\n|    18-25|        beauty|             7|\n|    18-25|     christmas|            14|\n|    18-25|     christmas|            14|\n|    18-25|     christmas|            14|\n|    18-25|     christmas|            14|\n|    18-25|     christmas|            14|\n|    18-25|     christmas|            14|\n|    18-25|     christmas|            14|\n|    18-25|diy-and-crafts|            19|\n|    18-25|diy-and-crafts|            19|\n|    18-25|diy-and-crafts|            19|\n|    18-25|diy-and-crafts|            19|\n|    18-25|diy-and-crafts|            19|\n|    18-25|     education|            22|\n+---------+--------------+--------------+\nonly showing top 20 rows\n\n</div>",
       "datasetInfos": [],
       "metadata": {},
       "removedWidgets": [],
       "type": "html"
      }
     },
     "output_type": "display_data"
    }
   ],
   "source": [
    "# What is the most popular category people post to based on the following age groups: 18-24, 25-35, 36-50, +50\n",
    "\n",
    "#Add age-group col\n",
    "df_pin_user = df_pin_user.withColumn('age_group',\\\n",
    "    when((df_pin_user.age >= 18) & (df_pin_user.age <=25), '18-25')\n",
    "    .when((df_pin_user.age >= 26) & (df_pin_user.age <= 35), '26-35')\n",
    "    .when((df_pin_user.age >= 36) & (df_pin_user.age <= 50), '36-50')\n",
    "    .otherwise('50+'))\n",
    "\n",
    "#Window specification\n",
    "pin_user_windowSpec = Window.partitionBy('age_group')\\\n",
    "    .orderBy('category')\n",
    "\n",
    "\n",
    "\n",
    "df_pin_user.select('age_group',\\\n",
    "    'category',\\\n",
    "    count(col('category'))\\\n",
    "    .over(pin_user_windowSpec)\\\n",
    "    .alias('category_count'))\\\n",
    "    .show()\n"
   ]
  },
  {
   "cell_type": "code",
   "execution_count": null,
   "metadata": {
    "application/vnd.databricks.v1+cell": {
     "cellMetadata": {
      "byteLimit": 2048000,
      "rowLimit": 10000
     },
     "inputWidgets": {},
     "nuid": "e0d86f86-4f95-4cad-9024-3d2355f57d61",
     "showTitle": true,
     "title": "Task 8 with SQL"
    }
   },
   "outputs": [
    {
     "data": {
      "text/html": [
       "<style scoped>\n",
       "  .ansiout {\n",
       "    display: block;\n",
       "    unicode-bidi: embed;\n",
       "    white-space: pre-wrap;\n",
       "    word-wrap: break-word;\n",
       "    word-break: break-all;\n",
       "    font-family: \"Source Code Pro\", \"Menlo\", monospace;;\n",
       "    font-size: 13px;\n",
       "    color: #555;\n",
       "    margin-left: 4px;\n",
       "    line-height: 19px;\n",
       "  }\n",
       "</style>\n",
       "<div class=\"ansiout\">+---------+-------------------+------------------+------------------+\n",
       "age_group|mean_follower_count|min_follower_count|min_follower_count|\n",
       "+---------+-------------------+------------------+------------------+\n",
       "    18-24|         256477.273|            985000|              2000|\n",
       "    25-35|         168757.576|            972000|              1000|\n",
       "    36-50|          42055.556|            314000|                 0|\n",
       "      50+|           121500.0|            637000|              2000|\n",
       "+---------+-------------------+------------------+------------------+\n",
       "\n",
       "</div>"
      ]
     },
     "metadata": {
      "application/vnd.databricks.v1+output": {
       "addedWidgets": {},
       "arguments": {},
       "data": "<div class=\"ansiout\">+---------+-------------------+------------------+------------------+\n|age_group|mean_follower_count|min_follower_count|min_follower_count|\n+---------+-------------------+------------------+------------------+\n|    18-24|         256477.273|            985000|              2000|\n|    25-35|         168757.576|            972000|              1000|\n|    36-50|          42055.556|            314000|                 0|\n|      50+|           121500.0|            637000|              2000|\n+---------+-------------------+------------------+------------------+\n\n</div>",
       "datasetInfos": [],
       "metadata": {},
       "removedWidgets": [],
       "type": "html"
      }
     },
     "output_type": "display_data"
    }
   ],
   "source": [
    "# What is the median follower count for users in the following age groups: 18-24, 25-35, 36-50, +50\n",
    "\n",
    "spark.sql(\"\\\n",
    "    SELECT\\\n",
    "        CASE\\\n",
    "            WHEN age BETWEEN 18 AND 24 THEN '18-24' \\\n",
    "            WHEN age BETWEEN 25 AND 35 THEN '25-35'\\\n",
    "            WHEN age BETWEEN 36 AND 50 THEN '36-50'\\\n",
    "            WHEN age > 50 THEN '50+'\\\n",
    "        END AS age_group,\\\n",
    "        round(mean(follower_count), 3) mean_follower_count,\\\n",
    "        max(follower_count) min_follower_count,\\\n",
    "        min(follower_count) min_follower_count\\\n",
    "    FROM pin_user\\\n",
    "    GROUP BY age_group\\\n",
    "    ORDER BY age_group\\\n",
    "\").show()\n"
   ]
  },
  {
   "cell_type": "code",
   "execution_count": null,
   "metadata": {
    "application/vnd.databricks.v1+cell": {
     "cellMetadata": {
      "byteLimit": 2048000,
      "rowLimit": 10000
     },
     "inputWidgets": {},
     "nuid": "83d35907-8d36-47bf-8df4-96f9a378cab7",
     "showTitle": true,
     "title": "Task 8 with Groupby syntax"
    }
   },
   "outputs": [
    {
     "data": {
      "text/html": [
       "<style scoped>\n",
       "  .ansiout {\n",
       "    display: block;\n",
       "    unicode-bidi: embed;\n",
       "    white-space: pre-wrap;\n",
       "    word-wrap: break-word;\n",
       "    word-break: break-all;\n",
       "    font-family: \"Source Code Pro\", \"Menlo\", monospace;;\n",
       "    font-size: 13px;\n",
       "    color: #555;\n",
       "    margin-left: 4px;\n",
       "    line-height: 19px;\n",
       "  }\n",
       "</style>\n",
       "<div class=\"ansiout\">+---------+--------------------+-------------------+\n",
       "age_group|total_follower_count|mean_follower_count|\n",
       "+---------+--------------------+-------------------+\n",
       "    18-25|            11506000|         234816.327|\n",
       "    26-35|             5348000|           191000.0|\n",
       "      50+|              972000|           121500.0|\n",
       "    36-50|              757000|          42055.556|\n",
       "+---------+--------------------+-------------------+\n",
       "\n",
       "</div>"
      ]
     },
     "metadata": {
      "application/vnd.databricks.v1+output": {
       "addedWidgets": {},
       "arguments": {},
       "data": "<div class=\"ansiout\">+---------+--------------------+-------------------+\n|age_group|total_follower_count|mean_follower_count|\n+---------+--------------------+-------------------+\n|    18-25|            11506000|         234816.327|\n|    26-35|             5348000|           191000.0|\n|      50+|              972000|           121500.0|\n|    36-50|              757000|          42055.556|\n+---------+--------------------+-------------------+\n\n</div>",
       "datasetInfos": [],
       "metadata": {},
       "removedWidgets": [],
       "type": "html"
      }
     },
     "output_type": "display_data"
    }
   ],
   "source": [
    "df_pin_user.groupby('age_group')\\\n",
    "    .agg(sum('follower_count').alias('total_follower_count'),\\\n",
    "        round(mean('follower_count'), 3).alias('mean_follower_count'))\\\n",
    "    .show()"
   ]
  },
  {
   "cell_type": "code",
   "execution_count": null,
   "metadata": {
    "application/vnd.databricks.v1+cell": {
     "cellMetadata": {
      "byteLimit": 2048000,
      "rowLimit": 10000
     },
     "inputWidgets": {},
     "nuid": "c2ecb0e4-59e7-49b2-b7dc-a456acc93aed",
     "showTitle": true,
     "title": "Task 9"
    }
   },
   "outputs": [
    {
     "data": {
      "text/html": [
       "<style scoped>\n",
       "  .ansiout {\n",
       "    display: block;\n",
       "    unicode-bidi: embed;\n",
       "    white-space: pre-wrap;\n",
       "    word-wrap: break-word;\n",
       "    word-break: break-all;\n",
       "    font-family: \"Source Code Pro\", \"Menlo\", monospace;;\n",
       "    font-size: 13px;\n",
       "    color: #555;\n",
       "    margin-left: 4px;\n",
       "    line-height: 19px;\n",
       "  }\n",
       "</style>\n",
       "<div class=\"ansiout\">+---------+-------------------+\n",
       "post_year|number_users_joined|\n",
       "+---------+-------------------+\n",
       "     2017|                  1|\n",
       "     2018|                 17|\n",
       "     2022|                 18|\n",
       "     2021|                 24|\n",
       "     2020|                 27|\n",
       "     2019|                 30|\n",
       "+---------+-------------------+\n",
       "\n",
       "</div>"
      ]
     },
     "metadata": {
      "application/vnd.databricks.v1+output": {
       "addedWidgets": {},
       "arguments": {},
       "data": "<div class=\"ansiout\">+---------+-------------------+\n|post_year|number_users_joined|\n+---------+-------------------+\n|     2017|                  1|\n|     2018|                 17|\n|     2022|                 18|\n|     2021|                 24|\n|     2020|                 27|\n|     2019|                 30|\n+---------+-------------------+\n\n</div>",
       "datasetInfos": [],
       "metadata": {},
       "removedWidgets": [],
       "type": "html"
      }
     },
     "output_type": "display_data"
    }
   ],
   "source": [
    "#Find how many users have joined between 2015 and 2020.\n",
    "\n",
    "# Join user and geo df\n",
    "df_geo_user = df_geo.join(df_user, df_geo.ind==df_user.ind, 'inner')\n",
    "\n",
    "# df_geo_user.withColumn('timestamp', YEAR(col('timestamp'))).show()\n",
    "\n",
    "df_geo_user.groupby(year('timestamp').alias('post_year'))\\\n",
    "    .agg(count(year('timestamp')).alias('number_users_joined'))\\\n",
    "    .sort('number_users_joined')\\\n",
    "    .show()"
   ]
  },
  {
   "cell_type": "code",
   "execution_count": null,
   "metadata": {
    "application/vnd.databricks.v1+cell": {
     "cellMetadata": {
      "byteLimit": 2048000,
      "rowLimit": 10000
     },
     "inputWidgets": {},
     "nuid": "701d1e16-1842-4675-ba29-010ea0365d68",
     "showTitle": true,
     "title": "Task 10"
    }
   },
   "outputs": [
    {
     "data": {
      "text/html": [
       "<style scoped>\n",
       "  .ansiout {\n",
       "    display: block;\n",
       "    unicode-bidi: embed;\n",
       "    white-space: pre-wrap;\n",
       "    word-wrap: break-word;\n",
       "    word-break: break-all;\n",
       "    font-family: \"Source Code Pro\", \"Menlo\", monospace;;\n",
       "    font-size: 13px;\n",
       "    color: #555;\n",
       "    margin-left: 4px;\n",
       "    line-height: 19px;\n",
       "  }\n",
       "</style>\n",
       "<div class=\"ansiout\">+---------+---------------------+\n",
       "post_year|median_follower_count|\n",
       "+---------+---------------------+\n",
       "     2017|                 null|\n",
       "     2018|            220307.69|\n",
       "     2019|            152107.14|\n",
       "     2020|             182000.0|\n",
       "+---------+---------------------+\n",
       "\n",
       "</div>"
      ]
     },
     "metadata": {
      "application/vnd.databricks.v1+output": {
       "addedWidgets": {},
       "arguments": {},
       "data": "<div class=\"ansiout\">+---------+---------------------+\n|post_year|median_follower_count|\n+---------+---------------------+\n|     2017|                 null|\n|     2018|            220307.69|\n|     2019|            152107.14|\n|     2020|             182000.0|\n+---------+---------------------+\n\n</div>",
       "datasetInfos": [],
       "metadata": {},
       "removedWidgets": [],
       "type": "html"
      }
     },
     "output_type": "display_data"
    }
   ],
   "source": [
    "# Find the median follower count of users have joined between 2015 and 2020.\n",
    "df_pin_geo.filter((year('timestamp') >= 2015) & (year('timestamp') <= 2020))\\\n",
    "    .groupby(year('timestamp').alias('post_year'))\\\n",
    "    .agg(round(mean('follower_count') ,2).alias('median_follower_count'))\\\n",
    "    .orderBy('post_year')\\\n",
    "    .show() #median function not defined. Testing with mean"
   ]
  },
  {
   "cell_type": "code",
   "execution_count": null,
   "metadata": {
    "application/vnd.databricks.v1+cell": {
     "cellMetadata": {
      "byteLimit": 2048000,
      "rowLimit": 10000
     },
     "inputWidgets": {},
     "nuid": "d7391359-f6a5-4ad7-bea0-08438ab5f79b",
     "showTitle": true,
     "title": "Task 11"
    }
   },
   "outputs": [
    {
     "data": {
      "text/html": [
       "<style scoped>\n",
       "  .ansiout {\n",
       "    display: block;\n",
       "    unicode-bidi: embed;\n",
       "    white-space: pre-wrap;\n",
       "    word-wrap: break-word;\n",
       "    word-break: break-all;\n",
       "    font-family: \"Source Code Pro\", \"Menlo\", monospace;;\n",
       "    font-size: 13px;\n",
       "    color: #555;\n",
       "    margin-left: 4px;\n",
       "    line-height: 19px;\n",
       "  }\n",
       "</style>\n",
       "<div class=\"ansiout\">+---------+---------+---------------------+\n",
       "age_group|post_year|median_follower_count|\n",
       "+---------+---------+---------------------+\n",
       "    18-25|     2017|                 null|\n",
       "      50+|     2019|   29333.333333333332|\n",
       "    36-50|     2019|   43833.333333333336|\n",
       "    18-25|     2018|             176500.0|\n",
       "    26-35|     2019|              57600.0|\n",
       "    18-25|     2019|   212444.44444444444|\n",
       "    26-35|     2018|   194666.66666666666|\n",
       "      50+|     2018|             637000.0|\n",
       "    36-50|     2020|              97500.0|\n",
       "    18-25|     2020|    276727.2727272727|\n",
       "    26-35|     2020|             104600.0|\n",
       "      50+|     2020|              20000.0|\n",
       "+---------+---------+---------------------+\n",
       "\n",
       "</div>"
      ]
     },
     "metadata": {
      "application/vnd.databricks.v1+output": {
       "addedWidgets": {},
       "arguments": {},
       "data": "<div class=\"ansiout\">+---------+---------+---------------------+\n|age_group|post_year|median_follower_count|\n+---------+---------+---------------------+\n|    18-25|     2017|                 null|\n|      50+|     2019|   29333.333333333332|\n|    36-50|     2019|   43833.333333333336|\n|    18-25|     2018|             176500.0|\n|    26-35|     2019|              57600.0|\n|    18-25|     2019|   212444.44444444444|\n|    26-35|     2018|   194666.66666666666|\n|      50+|     2018|             637000.0|\n|    36-50|     2020|              97500.0|\n|    18-25|     2020|    276727.2727272727|\n|    26-35|     2020|             104600.0|\n|      50+|     2020|              20000.0|\n+---------+---------+---------------------+\n\n</div>",
       "datasetInfos": [],
       "metadata": {},
       "removedWidgets": [],
       "type": "html"
      }
     },
     "output_type": "display_data"
    }
   ],
   "source": [
    "#Find the median follower count of users that have joined between 2015 and 2020, based on which age group they are part of.\n",
    "# ~Join pin, geo & user df\n",
    "df_pin_geo_user = df_pin.join(df_geo, df_pin.ind==df_geo.ind, 'inner')\\\n",
    "    .join(df_user, df_geo.ind==df_user.ind, 'inner')\n",
    "\n",
    "#Add age-group col\n",
    "df_pin_geo_user = df_pin_geo_user.withColumn('age_group',\\\n",
    "    when((df_pin_geo_user.age >= 18) & (df_pin_geo_user.age <=25), '18-25')\n",
    "    .when((df_pin_geo_user.age >= 26) & (df_pin_geo_user.age <= 35), '26-35')\n",
    "    .when((df_pin_geo_user.age >= 36) & (df_pin_geo_user.age <= 50), '36-50')\n",
    "    .otherwise('50+'))\n",
    "\n",
    "\n",
    "df_pin_geo_user.filter((year('timestamp') >= 2015) & (year('timestamp') <= 2020))\\\n",
    "    .groupby('age_group',year('timestamp')\\\n",
    "    .alias('post_year')).agg(mean('follower_count')\n",
    "    .alias('median_follower_count'))\n",
    "    .show()"
   ]
  },
  {
   "cell_type": "code",
   "execution_count": null,
   "metadata": {
    "application/vnd.databricks.v1+cell": {
     "cellMetadata": {
      "byteLimit": 2048000,
      "rowLimit": 10000
     },
     "inputWidgets": {},
     "nuid": "690c6f4b-d5e5-4143-bdde-0839a19b7b43",
     "showTitle": true,
     "title": "Task 11 with Window function"
    }
   },
   "outputs": [
    {
     "data": {
      "text/html": [
       "<style scoped>\n",
       "  .ansiout {\n",
       "    display: block;\n",
       "    unicode-bidi: embed;\n",
       "    white-space: pre-wrap;\n",
       "    word-wrap: break-word;\n",
       "    word-break: break-all;\n",
       "    font-family: \"Source Code Pro\", \"Menlo\", monospace;;\n",
       "    font-size: 13px;\n",
       "    color: #555;\n",
       "    margin-left: 4px;\n",
       "    line-height: 19px;\n",
       "  }\n",
       "</style>\n",
       "<div class=\"ansiout\">+---------+---------+-------------------+\n",
       "age_group|post_year|mean_follower_count|\n",
       "+---------+---------+-------------------+\n",
       "    18-25|     2017|               null|\n",
       "    18-25|     2018|            11000.0|\n",
       "    18-25|     2018|            19500.0|\n",
       "    18-25|     2018| 16666.666666666668|\n",
       "    18-25|     2018| 16666.666666666668|\n",
       "    18-25|     2018| 16666.666666666668|\n",
       "    18-25|     2018| 16666.666666666668|\n",
       "    18-25|     2018| 16666.666666666668|\n",
       "    18-25|     2018|            14500.0|\n",
       "    18-25|     2018|           208600.0|\n",
       "    18-25|     2018|           176500.0|\n",
       "    18-25|     2019|           152000.0|\n",
       "    18-25|     2019|           135500.0|\n",
       "    18-25|     2019|           135500.0|\n",
       "    18-25|     2019| 224888.88888888888|\n",
       "    18-25|     2019|           202900.0|\n",
       "    18-25|     2019| 186454.54545454544|\n",
       "    18-25|     2019| 185166.66666666666|\n",
       "    18-25|     2019| 238076.92307692306|\n",
       "    18-25|     2019|  221785.7142857143|\n",
       "+---------+---------+-------------------+\n",
       "only showing top 20 rows\n",
       "\n",
       "</div>"
      ]
     },
     "metadata": {
      "application/vnd.databricks.v1+output": {
       "addedWidgets": {},
       "arguments": {},
       "data": "<div class=\"ansiout\">+---------+---------+-------------------+\n|age_group|post_year|mean_follower_count|\n+---------+---------+-------------------+\n|    18-25|     2017|               null|\n|    18-25|     2018|            11000.0|\n|    18-25|     2018|            19500.0|\n|    18-25|     2018| 16666.666666666668|\n|    18-25|     2018| 16666.666666666668|\n|    18-25|     2018| 16666.666666666668|\n|    18-25|     2018| 16666.666666666668|\n|    18-25|     2018| 16666.666666666668|\n|    18-25|     2018|            14500.0|\n|    18-25|     2018|           208600.0|\n|    18-25|     2018|           176500.0|\n|    18-25|     2019|           152000.0|\n|    18-25|     2019|           135500.0|\n|    18-25|     2019|           135500.0|\n|    18-25|     2019| 224888.88888888888|\n|    18-25|     2019|           202900.0|\n|    18-25|     2019| 186454.54545454544|\n|    18-25|     2019| 185166.66666666666|\n|    18-25|     2019| 238076.92307692306|\n|    18-25|     2019|  221785.7142857143|\n+---------+---------+-------------------+\nonly showing top 20 rows\n\n</div>",
       "datasetInfos": [],
       "metadata": {},
       "removedWidgets": [],
       "type": "html"
      }
     },
     "output_type": "display_data"
    }
   ],
   "source": [
    "windowSpec = Window.partitionBy('age_group')\\\n",
    "                    .orderBy('timestamp')\n",
    "\n",
    "# median function not imported, testing with mean\n",
    "df_pin_geo_user.filter((year('timestamp') >= 2015) & (year('timestamp') <= 2020))\\\n",
    "    .select('age_group', year('timestamp')\n",
    "    .alias('post_year'), mean('follower_count')\n",
    "    .over(windowSpec).alias('mean_follower_count'))\n",
    "    .show()"
   ]
  }
 ],
 "metadata": {
  "application/vnd.databricks.v1+notebook": {
   "dashboards": [],
   "language": "python",
   "notebookMetadata": {
    "pythonIndentUnit": 4
   },
   "notebookName": "pinterest-project",
   "widgets": {}
  },
  "language_info": {
   "name": "python"
  }
 },
 "nbformat": 4,
 "nbformat_minor": 0
}
