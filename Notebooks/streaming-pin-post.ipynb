{
 "cells": [
  {
   "cell_type": "code",
   "execution_count": null,
   "metadata": {
    "application/vnd.databricks.v1+cell": {
     "cellMetadata": {
      "byteLimit": 2048000,
      "rowLimit": 10000
     },
     "inputWidgets": {},
     "nuid": "f577c080-862b-4bd3-818a-6c219174b58d",
     "showTitle": false,
     "title": ""
    }
   },
   "outputs": [
    {
     "data": {
      "text/html": [
       "<style scoped>\n",
       "  .ansiout {\n",
       "    display: block;\n",
       "    unicode-bidi: embed;\n",
       "    white-space: pre-wrap;\n",
       "    word-wrap: break-word;\n",
       "    word-break: break-all;\n",
       "    font-family: \"Source Code Pro\", \"Menlo\", monospace;;\n",
       "    font-size: 13px;\n",
       "    color: #555;\n",
       "    margin-left: 4px;\n",
       "    line-height: 19px;\n",
       "  }\n",
       "</style>\n",
       "<div class=\"ansiout\"></div>"
      ]
     },
     "metadata": {
      "application/vnd.databricks.v1+output": {
       "addedWidgets": {},
       "arguments": {},
       "data": "<div class=\"ansiout\"></div>",
       "datasetInfos": [],
       "metadata": {},
       "removedWidgets": [],
       "type": "html"
      }
     },
     "output_type": "display_data"
    }
   ],
   "source": [
    "from pyspark.sql.types import *\n",
    "from pyspark.sql.functions import *\n",
    "import urllib\n",
    "from pyspark.sql.window import Window"
   ]
  },
  {
   "cell_type": "code",
   "execution_count": null,
   "metadata": {
    "application/vnd.databricks.v1+cell": {
     "cellMetadata": {
      "byteLimit": 2048000,
      "rowLimit": 10000
     },
     "inputWidgets": {},
     "nuid": "510d60ef-3ffe-4941-8862-ca275562951e",
     "showTitle": true,
     "title": "Read Credentials"
    }
   },
   "outputs": [
    {
     "data": {
      "text/html": [
       "<style scoped>\n",
       "  .ansiout {\n",
       "    display: block;\n",
       "    unicode-bidi: embed;\n",
       "    white-space: pre-wrap;\n",
       "    word-wrap: break-word;\n",
       "    word-break: break-all;\n",
       "    font-family: \"Source Code Pro\", \"Menlo\", monospace;;\n",
       "    font-size: 13px;\n",
       "    color: #555;\n",
       "    margin-left: 4px;\n",
       "    line-height: 19px;\n",
       "  }\n",
       "</style>\n",
       "<div class=\"ansiout\"></div>"
      ]
     },
     "metadata": {
      "application/vnd.databricks.v1+output": {
       "addedWidgets": {},
       "arguments": {},
       "data": "<div class=\"ansiout\"></div>",
       "datasetInfos": [],
       "metadata": {},
       "removedWidgets": [],
       "type": "html"
      }
     },
     "output_type": "display_data"
    }
   ],
   "source": [
    "# Specify file type to be csv\n",
    "file_type = \"csv\"\n",
    "# Indicates file has first row as the header\n",
    "first_row_is_header = \"true\"\n",
    "# Indicates file has comma as the delimeter\n",
    "delimiter = \",\"\n",
    "# Read the CSV file to spark dataframe\n",
    "aws_keys_df = spark.read.format(file_type)\\\n",
    "    .option(\"header\", first_row_is_header)\\\n",
    "    .option(\"sep\", delimiter)\\\n",
    "    .load(\"/FileStore/tables/authentication_credentials.csv\")\n",
    "\n",
    "# Get the AWS access key and secret key from the spark dataframe\n",
    "ACCESS_KEY = aws_keys_df.where(col('User name')=='databricks-user')\\\n",
    "    .select('Access key ID')\\\n",
    "    .collect()[0]['Access key ID']\n",
    "\n",
    "SECRET_KEY = aws_keys_df.where(col('User name')=='databricks-user')\\\n",
    "    .select('Secret access key')\\\n",
    "    .collect()[0]['Secret access key']\n",
    "\n",
    "# Encode the secrete key\n",
    "ENCODED_SECRET_KEY = urllib.parse.quote(string=SECRET_KEY, safe=\"\")\n"
   ]
  },
  {
   "cell_type": "code",
   "execution_count": null,
   "metadata": {
    "application/vnd.databricks.v1+cell": {
     "cellMetadata": {
      "byteLimit": 2048000,
      "rowLimit": 10000
     },
     "inputWidgets": {},
     "nuid": "c114c380-1ee8-4173-b2af-97c8f03d03a7",
     "showTitle": true,
     "title": "Read Streaming data"
    }
   },
   "outputs": [
    {
     "data": {
      "text/html": [
       "<style scoped>\n",
       "  .ansiout {\n",
       "    display: block;\n",
       "    unicode-bidi: embed;\n",
       "    white-space: pre-wrap;\n",
       "    word-wrap: break-word;\n",
       "    word-break: break-all;\n",
       "    font-family: \"Source Code Pro\", \"Menlo\", monospace;;\n",
       "    font-size: 13px;\n",
       "    color: #555;\n",
       "    margin-left: 4px;\n",
       "    line-height: 19px;\n",
       "  }\n",
       "</style>\n",
       "<div class=\"ansiout\"></div>"
      ]
     },
     "metadata": {
      "application/vnd.databricks.v1+output": {
       "addedWidgets": {},
       "arguments": {},
       "data": "<div class=\"ansiout\"></div>",
       "datasetInfos": [],
       "metadata": {},
       "removedWidgets": [],
       "type": "html"
      }
     },
     "output_type": "display_data"
    }
   ],
   "source": [
    "# Stream pin post\n",
    "df_pin = spark \\\n",
    "    .readStream \\\n",
    "    .format('kinesis') \\\n",
    "    .option('streamName','streaming-12853887c065-pin') \\\n",
    "    .option('initialPosition','earliest') \\\n",
    "    .option('region','us-east-1') \\\n",
    "    .option('awsAccessKey', ACCESS_KEY) \\\n",
    "    .option('awsSecretKey', SECRET_KEY) \\\n",
    "    .load()\n",
    "\n",
    "# Stream geolocation\n",
    "df_geo = spark\\\n",
    "    .readStream\\\n",
    "    .format('kinesis')\\\n",
    "    .option('streamName', 'streaming-12853887c065-geo')\\\n",
    "    .option('initialPosition', 'earliest')\\\n",
    "    .option('region', 'us-east-1')\\\n",
    "    .option('awsAccessKey', ACCESS_KEY)\\\n",
    "    .option('awsSecretKey', SECRET_KEY)\\\n",
    "    .load()\n",
    "\n",
    "#Stream user\n",
    "df_user = spark\\\n",
    "    .readStream\\\n",
    "    .format('kinesis')\\\n",
    "    .option('streamName', 'streaming-12853887c065-user')\\\n",
    "    .option('initialPosition', 'earliest')\\\n",
    "    .option('region', 'us-east-1')\\\n",
    "    .option('awsAccessKey', ACCESS_KEY)\\\n",
    "    .option('awsSecretKey', SECRET_KEY)\\\n",
    "    .load()\n"
   ]
  },
  {
   "cell_type": "code",
   "execution_count": null,
   "metadata": {
    "application/vnd.databricks.v1+cell": {
     "cellMetadata": {
      "byteLimit": 2048000,
      "rowLimit": 10000
     },
     "inputWidgets": {},
     "nuid": "c0118e5f-5d64-4095-bd65-74ea3f0f7496",
     "showTitle": false,
     "title": ""
    }
   },
   "outputs": [],
   "source": [
    "df_pin.display(10)"
   ]
  },
  {
   "cell_type": "code",
   "execution_count": null,
   "metadata": {
    "application/vnd.databricks.v1+cell": {
     "cellMetadata": {
      "byteLimit": 2048000,
      "rowLimit": 10000
     },
     "inputWidgets": {},
     "nuid": "5761bd36-9f2e-4e7d-a51c-d575fe7a8226",
     "showTitle": true,
     "title": "Convert streaming data to dataframe"
    }
   },
   "outputs": [
    {
     "data": {
      "text/html": [
       "<style scoped>\n",
       "  .ansiout {\n",
       "    display: block;\n",
       "    unicode-bidi: embed;\n",
       "    white-space: pre-wrap;\n",
       "    word-wrap: break-word;\n",
       "    word-break: break-all;\n",
       "    font-family: \"Source Code Pro\", \"Menlo\", monospace;;\n",
       "    font-size: 13px;\n",
       "    color: #555;\n",
       "    margin-left: 4px;\n",
       "    line-height: 19px;\n",
       "  }\n",
       "</style>\n",
       "<div class=\"ansiout\"></div>"
      ]
     },
     "metadata": {
      "application/vnd.databricks.v1+output": {
       "addedWidgets": {},
       "arguments": {},
       "data": "<div class=\"ansiout\"></div>",
       "datasetInfos": [],
       "metadata": {},
       "removedWidgets": [],
       "type": "html"
      }
     },
     "output_type": "display_data"
    }
   ],
   "source": [
    "#Cast to string to read json\n",
    "df_pin = df_pin.selectExpr(\"CAST(data as STRING)\")\n",
    "df_geo = df_geo.selectExpr(\"CAST(data as STRING)\")\n",
    "df_user = df_user.selectExpr(\"CAST(data as STRING)\")\n",
    "\n",
    "###Construct schema\n",
    "# pin schema\n",
    "df_pin_schema = StructType([\\\n",
    "    StructField(\"index\", IntegerType(),True),\\\n",
    "    StructField(\"unique_id\", StringType(),True),\\\n",
    "    StructField(\"title\", StringType(),True),\\\n",
    "    StructField(\"follower_count\", StringType(),True),\\\n",
    "    StructField(\"poster_name\", StringType(),True),\\\n",
    "    StructField(\"tag_list\", StringType(),True),\\\n",
    "    StructField(\"is_image_or_video\", StringType(),True),\\\n",
    "    StructField(\"image_src\", StringType(),True),\\\n",
    "    StructField(\"save_location\", StringType(),True),\\\n",
    "    StructField(\"category\", StringType(),True),\\\n",
    "    StructField(\"downloaded\", IntegerType(),True),\\\n",
    "    StructField(\"description\", StringType(),True)\\\n",
    "])\n",
    "\n",
    "\n",
    "#geo schema\n",
    "df_geo_schema = StructType([\\\n",
    "    StructField(\"ind\", IntegerType(),True),\\\n",
    "    StructField(\"country\", StringType(),True),\\\n",
    "    StructField(\"latitude\", StringType(),True),\\\n",
    "    StructField(\"longitude\", StringType(),True),\\\n",
    "    StructField(\"timestamp\", StringType(),True),\\\n",
    "])\n",
    "\n",
    "#geo schema\n",
    "df_user_schema = StructType([\\\n",
    "    StructField(\"ind\", IntegerType(),True),\\\n",
    "    StructField(\"first_name\", StringType(),True),\\\n",
    "    StructField(\"last_name\", StringType(),True),\\\n",
    "    StructField(\"age\", StringType(),True),\\\n",
    "    StructField(\"date_joined\", StringType(),True),\\\n",
    "])\n",
    "\n",
    "\n",
    "#Convert json to dataframe using the defined schemas\n",
    "\n",
    "df_pin = df_pin.withColumn(\"data\", from_json(col(\"data\"),df_pin_schema))\\\n",
    "    .select(\"data.*\") # data : Kinesis streaming data header name\n",
    "\n",
    "#geo\n",
    "df_geo = df_geo.withColumn('data', from_json(col('data'), df_geo_schema))\\\n",
    "    .select('data.*')\n",
    "\n",
    "#user\n",
    "df_user = df_user.withColumn('data', from_json(col('data'), df_user_schema))\\\n",
    "    .select('data.*')"
   ]
  },
  {
   "cell_type": "code",
   "execution_count": null,
   "metadata": {
    "application/vnd.databricks.v1+cell": {
     "cellMetadata": {
      "byteLimit": 2048000,
      "rowLimit": 10000
     },
     "inputWidgets": {},
     "nuid": "e9c24c78-2143-4264-9103-be90bb31c809",
     "showTitle": true,
     "title": "Cleaning Pin post"
    }
   },
   "outputs": [
    {
     "data": {
      "text/html": [
       "<style scoped>\n",
       "  .table-result-container {\n",
       "    max-height: 300px;\n",
       "    overflow: auto;\n",
       "  }\n",
       "  table, th, td {\n",
       "    border: 1px solid black;\n",
       "    border-collapse: collapse;\n",
       "  }\n",
       "  th, td {\n",
       "    padding: 5px;\n",
       "  }\n",
       "  th {\n",
       "    text-align: left;\n",
       "  }\n",
       "</style><div class='table-result-container'><table class='table-result'><thead style='background-color: white'><tr><th>ind</th><th>follower_count</th><th>save_location</th></tr></thead><tbody><tr><td>7528</td><td>0</td><td>/data/mens-fashion</td></tr><tr><td>7528</td><td>0</td><td>/data/mens-fashion</td></tr><tr><td>2863</td><td>124000</td><td>/data/diy-and-crafts</td></tr><tr><td>5730</td><td>0</td><td>/data/finance</td></tr><tr><td>8304</td><td>51000</td><td>/data/quotes</td></tr><tr><td>8731</td><td>211000</td><td>/data/tattoos</td></tr><tr><td>1313</td><td>43000</td><td>/data/beauty</td></tr><tr><td>4315</td><td>25000</td><td>/data/education</td></tr><tr><td>10794</td><td>437</td><td>/data/vehicles</td></tr><tr><td>5494</td><td>26000</td><td>/data/finance</td></tr><tr><td>5069</td><td>6000000</td><td>/data/event-planning</td></tr><tr><td>2923</td><td>192000</td><td>/data/diy-and-crafts</td></tr><tr><td>3089</td><td>0</td><td>/data/diy-and-crafts</td></tr><tr><td>6063</td><td>92000</td><td>/data/home-decor</td></tr><tr><td>3454</td><td>6000</td><td>/data/diy-and-crafts</td></tr><tr><td>7554</td><td>940</td><td>/data/mens-fashion</td></tr><tr><td>4518</td><td>4000</td><td>/data/event-planning</td></tr><tr><td>2628</td><td>59000</td><td>/data/christmas</td></tr><tr><td>2959</td><td>502000</td><td>/data/diy-and-crafts</td></tr><tr><td>9875</td><td>28000</td><td>/data/travel</td></tr><tr><td>7528</td><td>0</td><td>/data/mens-fashion</td></tr><tr><td>2863</td><td>124000</td><td>/data/diy-and-crafts</td></tr></tbody></table></div>"
      ]
     },
     "metadata": {
      "application/vnd.databricks.v1+output": {
       "addedWidgets": {},
       "aggData": [],
       "aggError": "",
       "aggOverflow": false,
       "aggSchema": [],
       "aggSeriesLimitReached": false,
       "aggType": "",
       "arguments": {},
       "columnCustomDisplayInfos": {},
       "data": [
        [
         7528,
         0,
         "/data/mens-fashion"
        ],
        [
         7528,
         0,
         "/data/mens-fashion"
        ],
        [
         2863,
         124000,
         "/data/diy-and-crafts"
        ],
        [
         5730,
         0,
         "/data/finance"
        ],
        [
         8304,
         51000,
         "/data/quotes"
        ],
        [
         8731,
         211000,
         "/data/tattoos"
        ],
        [
         1313,
         43000,
         "/data/beauty"
        ],
        [
         4315,
         25000,
         "/data/education"
        ],
        [
         10794,
         437,
         "/data/vehicles"
        ],
        [
         5494,
         26000,
         "/data/finance"
        ],
        [
         5069,
         6000000,
         "/data/event-planning"
        ],
        [
         2923,
         192000,
         "/data/diy-and-crafts"
        ],
        [
         3089,
         0,
         "/data/diy-and-crafts"
        ],
        [
         6063,
         92000,
         "/data/home-decor"
        ],
        [
         3454,
         6000,
         "/data/diy-and-crafts"
        ],
        [
         7554,
         940,
         "/data/mens-fashion"
        ],
        [
         4518,
         4000,
         "/data/event-planning"
        ],
        [
         2628,
         59000,
         "/data/christmas"
        ],
        [
         2959,
         502000,
         "/data/diy-and-crafts"
        ],
        [
         9875,
         28000,
         "/data/travel"
        ],
        [
         7528,
         0,
         "/data/mens-fashion"
        ],
        [
         2863,
         124000,
         "/data/diy-and-crafts"
        ]
       ],
       "datasetInfos": [],
       "dbfsResultPath": null,
       "isJsonSchema": true,
       "metadata": {
        "isDbfsCommandResult": false
       },
       "overflow": false,
       "plotOptions": {
        "customPlotOptions": {},
        "displayType": "table",
        "pivotAggregation": null,
        "pivotColumns": null,
        "xColumns": null,
        "yColumns": null
       },
       "removedWidgets": [],
       "schema": [
        {
         "metadata": "{}",
         "name": "ind",
         "type": "\"integer\""
        },
        {
         "metadata": "{}",
         "name": "follower_count",
         "type": "\"integer\""
        },
        {
         "metadata": "{}",
         "name": "save_location",
         "type": "\"string\""
        }
       ],
       "type": "table"
      }
     },
     "output_type": "display_data"
    }
   ],
   "source": [
    "# Cast follower_count column to int\n",
    "df_pin = df_pin.withColumn(\"follower_count\", \\\n",
    "    when((df_pin.follower_count.contains('k')),\\\n",
    "        1000*regexp_replace(df_pin[\"follower_count\"], 'k', '').cast('int'))\n",
    "    .when((df_pin.follower_count.contains('M')),\\\n",
    "        1000000*regexp_replace(df_pin['follower_count'], 'M', '').cast('int'))\n",
    "    .otherwise(df_pin.follower_count).cast('int'))\n",
    "\n",
    "df_pin = df_pin.withColumn(\"downloaded\",col(\"downloaded\").cast(\"int\"))\n",
    "df_pin = df_pin.withColumn(\"index\",col(\"index\").cast(\"int\"))\n",
    "\n",
    "#Replace null values\n",
    "df_pin = df_pin.fillna(0)\n",
    "\n",
    "#Replace null values with None\n",
    "\n",
    "# Clean the data in the save_location column to include only the save location path\n",
    "df_pin = df_pin.withColumn('save_location', split(df_pin.save_location, ' ')\\\n",
    "    .getItem(3))\n",
    "\n",
    "#Rename the index column to ind.\n",
    "df_pin = df_pin.withColumn('ind', col('index'))\n",
    "\n",
    "df_pin_header = ['ind',\n",
    "  'unique_id',\n",
    "  'title',\n",
    "  'description',\n",
    "  'follower_count',\n",
    "  'poster_name',\n",
    "  'tag_list',\n",
    "  'is_image_or_video',\n",
    "  'image_src',\n",
    "  'save_location',\n",
    "  'category']\n",
    "\n",
    "df_pin = df_pin.select(df_pin_header)\n",
    "\n",
    "df_pin.select('ind', 'follower_count', 'save_location').display(10)"
   ]
  },
  {
   "cell_type": "code",
   "execution_count": null,
   "metadata": {
    "application/vnd.databricks.v1+cell": {
     "cellMetadata": {
      "byteLimit": 2048000,
      "rowLimit": 10000
     },
     "inputWidgets": {},
     "nuid": "f1479650-231e-4b24-a0c1-0b71658822a7",
     "showTitle": true,
     "title": "Cleaning geolocation"
    }
   },
   "outputs": [
    {
     "data": {
      "text/html": [
       "<style scoped>\n",
       "  .table-result-container {\n",
       "    max-height: 300px;\n",
       "    overflow: auto;\n",
       "  }\n",
       "  table, th, td {\n",
       "    border: 1px solid black;\n",
       "    border-collapse: collapse;\n",
       "  }\n",
       "  th, td {\n",
       "    padding: 5px;\n",
       "  }\n",
       "  th {\n",
       "    text-align: left;\n",
       "  }\n",
       "</style><div class='table-result-container'><table class='table-result'><thead style='background-color: white'><tr><th>ind</th><th>country</th><th>coordinates</th><th>timestamp</th></tr></thead><tbody><tr><td>7528</td><td>Albania</td><td>List(-89.9787, -173.293)</td><td>2020-08-28T03:52:47.000+0000</td></tr><tr><td>2863</td><td>Armenia</td><td>List(-5.34445, -177.924)</td><td>2020-04-27T13:34:16.000+0000</td></tr><tr><td>5730</td><td>Colombia</td><td>List(-77.015, -101.437)</td><td>2021-04-19T17:37:03.000+0000</td></tr><tr><td>8304</td><td>French Guiana</td><td>List(-28.8852, -164.87)</td><td>2019-09-13T04:50:29.000+0000</td></tr><tr><td>8731</td><td>Aruba</td><td>List(-83.104, -171.302)</td><td>2020-07-17T04:39:09.000+0000</td></tr><tr><td>1313</td><td>Maldives</td><td>List(77.0447, 61.9119)</td><td>2018-06-26T02:39:25.000+0000</td></tr><tr><td>4315</td><td>Cote d'Ivoire</td><td>List(-45.8508, 66.1003)</td><td>2019-12-15T03:51:28.000+0000</td></tr><tr><td>10794</td><td>Cocos (Keeling) Islands</td><td>List(-89.5236, -154.567)</td><td>2022-01-01T02:26:50.000+0000</td></tr><tr><td>5494</td><td>Bulgaria</td><td>List(-82.6768, -129.202)</td><td>2021-07-21T02:02:35.000+0000</td></tr><tr><td>5069</td><td>Azerbaijan</td><td>List(-63.0063, -157.474)</td><td>2021-03-20T09:32:44.000+0000</td></tr><tr><td>2923</td><td>Cote d'Ivoire</td><td>List(-84.6302, -164.507)</td><td>2019-09-08T22:53:09.000+0000</td></tr><tr><td>3089</td><td>Albania</td><td>List(-89.9787, -173.293)</td><td>2018-02-28T05:31:29.000+0000</td></tr><tr><td>6063</td><td>Anguilla</td><td>List(-89.1797, -174.015)</td><td>2021-07-20T09:02:47.000+0000</td></tr><tr><td>3454</td><td>Cambodia</td><td>List(-0.375174, 49.8106)</td><td>2021-07-25T02:20:29.000+0000</td></tr><tr><td>7554</td><td>Sudan</td><td>List(-51.2172, -77.9768)</td><td>2019-03-20T03:15:07.000+0000</td></tr><tr><td>4518</td><td>Bahamas</td><td>List(-75.4909, -179.908)</td><td>2021-02-13T23:32:59.000+0000</td></tr><tr><td>2628</td><td>Pitcairn Islands</td><td>List(-31.9741, -139.731)</td><td>2020-09-17T16:14:54.000+0000</td></tr><tr><td>2959</td><td>Angola</td><td>List(-68.0095, -157.227)</td><td>2019-08-19T08:22:02.000+0000</td></tr><tr><td>9875</td><td>Barbados</td><td>List(-74.3382, -110.484)</td><td>2020-03-20T13:03:18.000+0000</td></tr><tr><td>7528</td><td>Albania</td><td>List(-89.9787, -173.293)</td><td>2020-08-28T03:52:47.000+0000</td></tr><tr><td>2863</td><td>Armenia</td><td>List(-5.34445, -177.924)</td><td>2020-04-27T13:34:16.000+0000</td></tr></tbody></table></div>"
      ]
     },
     "metadata": {
      "application/vnd.databricks.v1+output": {
       "addedWidgets": {},
       "aggData": [],
       "aggError": "",
       "aggOverflow": false,
       "aggSchema": [],
       "aggSeriesLimitReached": false,
       "aggType": "",
       "arguments": {},
       "columnCustomDisplayInfos": {},
       "data": [
        [
         7528,
         "Albania",
         [
          "-89.9787",
          "-173.293"
         ],
         "2020-08-28T03:52:47.000+0000"
        ],
        [
         2863,
         "Armenia",
         [
          "-5.34445",
          "-177.924"
         ],
         "2020-04-27T13:34:16.000+0000"
        ],
        [
         5730,
         "Colombia",
         [
          "-77.015",
          "-101.437"
         ],
         "2021-04-19T17:37:03.000+0000"
        ],
        [
         8304,
         "French Guiana",
         [
          "-28.8852",
          "-164.87"
         ],
         "2019-09-13T04:50:29.000+0000"
        ],
        [
         8731,
         "Aruba",
         [
          "-83.104",
          "-171.302"
         ],
         "2020-07-17T04:39:09.000+0000"
        ],
        [
         1313,
         "Maldives",
         [
          "77.0447",
          "61.9119"
         ],
         "2018-06-26T02:39:25.000+0000"
        ],
        [
         4315,
         "Cote d'Ivoire",
         [
          "-45.8508",
          "66.1003"
         ],
         "2019-12-15T03:51:28.000+0000"
        ],
        [
         10794,
         "Cocos (Keeling) Islands",
         [
          "-89.5236",
          "-154.567"
         ],
         "2022-01-01T02:26:50.000+0000"
        ],
        [
         5494,
         "Bulgaria",
         [
          "-82.6768",
          "-129.202"
         ],
         "2021-07-21T02:02:35.000+0000"
        ],
        [
         5069,
         "Azerbaijan",
         [
          "-63.0063",
          "-157.474"
         ],
         "2021-03-20T09:32:44.000+0000"
        ],
        [
         2923,
         "Cote d'Ivoire",
         [
          "-84.6302",
          "-164.507"
         ],
         "2019-09-08T22:53:09.000+0000"
        ],
        [
         3089,
         "Albania",
         [
          "-89.9787",
          "-173.293"
         ],
         "2018-02-28T05:31:29.000+0000"
        ],
        [
         6063,
         "Anguilla",
         [
          "-89.1797",
          "-174.015"
         ],
         "2021-07-20T09:02:47.000+0000"
        ],
        [
         3454,
         "Cambodia",
         [
          "-0.375174",
          "49.8106"
         ],
         "2021-07-25T02:20:29.000+0000"
        ],
        [
         7554,
         "Sudan",
         [
          "-51.2172",
          "-77.9768"
         ],
         "2019-03-20T03:15:07.000+0000"
        ],
        [
         4518,
         "Bahamas",
         [
          "-75.4909",
          "-179.908"
         ],
         "2021-02-13T23:32:59.000+0000"
        ],
        [
         2628,
         "Pitcairn Islands",
         [
          "-31.9741",
          "-139.731"
         ],
         "2020-09-17T16:14:54.000+0000"
        ],
        [
         2959,
         "Angola",
         [
          "-68.0095",
          "-157.227"
         ],
         "2019-08-19T08:22:02.000+0000"
        ],
        [
         9875,
         "Barbados",
         [
          "-74.3382",
          "-110.484"
         ],
         "2020-03-20T13:03:18.000+0000"
        ],
        [
         7528,
         "Albania",
         [
          "-89.9787",
          "-173.293"
         ],
         "2020-08-28T03:52:47.000+0000"
        ],
        [
         2863,
         "Armenia",
         [
          "-5.34445",
          "-177.924"
         ],
         "2020-04-27T13:34:16.000+0000"
        ]
       ],
       "datasetInfos": [],
       "dbfsResultPath": null,
       "isJsonSchema": true,
       "metadata": {
        "isDbfsCommandResult": false
       },
       "overflow": false,
       "plotOptions": {
        "customPlotOptions": {},
        "displayType": "table",
        "pivotAggregation": null,
        "pivotColumns": null,
        "xColumns": null,
        "yColumns": null
       },
       "removedWidgets": [],
       "schema": [
        {
         "metadata": "{}",
         "name": "ind",
         "type": "\"integer\""
        },
        {
         "metadata": "{}",
         "name": "country",
         "type": "\"string\""
        },
        {
         "metadata": "{}",
         "name": "coordinates",
         "type": "{\"type\":\"array\",\"elementType\":\"string\",\"containsNull\":true}"
        },
        {
         "metadata": "{}",
         "name": "timestamp",
         "type": "\"timestamp\""
        }
       ],
       "type": "table"
      }
     },
     "output_type": "display_data"
    }
   ],
   "source": [
    "# Create a new column coordinates that contains an array based on the latitude and longitude columns\n",
    "df_geo = df_geo.withColumn('coordinates', array('latitude', 'longitude'))\n",
    "\n",
    "# Drop the latitude and longitude columns from the DataFrame\n",
    "df_geo = df_geo.drop('latitude', 'longitude')\n",
    "\n",
    "# Convert the timestamp column from a string to a timestamp data type\n",
    "df_geo = df_geo.withColumn('timestamp', col('timestamp')\\\n",
    "    .cast('timestamp'))\n",
    "\n",
    "df_geo = df_geo.withColumn('timestamp', col('timestamp')\\\n",
    "    .cast('timestamp'))\n",
    "\n",
    "\n",
    "# Reorder the DataFrame columns to have the following column order:\n",
    "df_geo_header = [ 'ind',\n",
    "  'country',\n",
    "  'coordinates',\n",
    "  'timestamp']\n",
    "\n",
    "df_geo = df_geo.select(df_geo_header)\n",
    "df_geo.display(10)"
   ]
  },
  {
   "cell_type": "code",
   "execution_count": null,
   "metadata": {
    "application/vnd.databricks.v1+cell": {
     "cellMetadata": {
      "byteLimit": 2048000,
      "rowLimit": 10000
     },
     "inputWidgets": {},
     "nuid": "ce6bd0af-2f3b-4abd-87e4-3991a23103dd",
     "showTitle": true,
     "title": "Cleaning user data"
    }
   },
   "outputs": [
    {
     "data": {
      "text/html": [
       "<style scoped>\n",
       "  .table-result-container {\n",
       "    max-height: 300px;\n",
       "    overflow: auto;\n",
       "  }\n",
       "  table, th, td {\n",
       "    border: 1px solid black;\n",
       "    border-collapse: collapse;\n",
       "  }\n",
       "  th, td {\n",
       "    padding: 5px;\n",
       "  }\n",
       "  th {\n",
       "    text-align: left;\n",
       "  }\n",
       "</style><div class='table-result-container'><table class='table-result'><thead style='background-color: white'><tr><th>ind</th><th>user_name</th><th>age</th><th>date_joined</th></tr></thead><tbody><tr><td>7528</td><td>AbigailAli</td><td>20</td><td>2015-10-24T11:23:51.000+0000</td></tr><tr><td>2863</td><td>DylanHolmes</td><td>32</td><td>2016-10-23T14:06:51.000+0000</td></tr><tr><td>5730</td><td>RachelDavis</td><td>36</td><td>2015-12-08T20:02:43.000+0000</td></tr><tr><td>8304</td><td>CharlesBerry</td><td>25</td><td>2015-12-28T04:21:39.000+0000</td></tr><tr><td>8731</td><td>AndreaAlexander</td><td>21</td><td>2015-11-10T09:27:42.000+0000</td></tr><tr><td>1313</td><td>BrittanyJones</td><td>32</td><td>2016-04-02T03:51:23.000+0000</td></tr><tr><td>4315</td><td>MichellePrince</td><td>36</td><td>2015-12-20T16:38:13.000+0000</td></tr><tr><td>10794</td><td>ThomasTurner</td><td>34</td><td>2016-12-22T00:02:02.000+0000</td></tr><tr><td>5494</td><td>AnneAllen</td><td>27</td><td>2015-12-16T15:20:05.000+0000</td></tr><tr><td>5069</td><td>AmandaBall</td><td>25</td><td>2016-01-13T17:36:30.000+0000</td></tr><tr><td>2923</td><td>BrianNelson</td><td>26</td><td>2015-11-11T03:20:57.000+0000</td></tr><tr><td>3089</td><td>AbigailAli</td><td>20</td><td>2015-10-24T11:23:51.000+0000</td></tr><tr><td>6063</td><td>CoreyAndrews</td><td>23</td><td>2015-11-25T13:36:22.000+0000</td></tr><tr><td>3454</td><td>RobertMurphy</td><td>48</td><td>2017-09-26T16:31:56.000+0000</td></tr><tr><td>7554</td><td>CherylHuerta</td><td>20</td><td>2017-04-11T16:35:33.000+0000</td></tr><tr><td>4518</td><td>AllisonAdams</td><td>22</td><td>2015-11-30T10:51:59.000+0000</td></tr><tr><td>2628</td><td>JeffreyBaker</td><td>24</td><td>2017-03-28T13:32:24.000+0000</td></tr><tr><td>2959</td><td>DavidGriffith</td><td>20</td><td>2016-01-07T19:49:22.000+0000</td></tr><tr><td>9875</td><td>BrendanJoseph</td><td>26</td><td>2015-12-20T10:28:00.000+0000</td></tr><tr><td>7528</td><td>AbigailAli</td><td>20</td><td>2015-10-24T11:23:51.000+0000</td></tr><tr><td>2863</td><td>DylanHolmes</td><td>32</td><td>2016-10-23T14:06:51.000+0000</td></tr></tbody></table></div>"
      ]
     },
     "metadata": {
      "application/vnd.databricks.v1+output": {
       "addedWidgets": {},
       "aggData": [],
       "aggError": "",
       "aggOverflow": false,
       "aggSchema": [],
       "aggSeriesLimitReached": false,
       "aggType": "",
       "arguments": {},
       "columnCustomDisplayInfos": {},
       "data": [
        [
         7528,
         "AbigailAli",
         "20",
         "2015-10-24T11:23:51.000+0000"
        ],
        [
         2863,
         "DylanHolmes",
         "32",
         "2016-10-23T14:06:51.000+0000"
        ],
        [
         5730,
         "RachelDavis",
         "36",
         "2015-12-08T20:02:43.000+0000"
        ],
        [
         8304,
         "CharlesBerry",
         "25",
         "2015-12-28T04:21:39.000+0000"
        ],
        [
         8731,
         "AndreaAlexander",
         "21",
         "2015-11-10T09:27:42.000+0000"
        ],
        [
         1313,
         "BrittanyJones",
         "32",
         "2016-04-02T03:51:23.000+0000"
        ],
        [
         4315,
         "MichellePrince",
         "36",
         "2015-12-20T16:38:13.000+0000"
        ],
        [
         10794,
         "ThomasTurner",
         "34",
         "2016-12-22T00:02:02.000+0000"
        ],
        [
         5494,
         "AnneAllen",
         "27",
         "2015-12-16T15:20:05.000+0000"
        ],
        [
         5069,
         "AmandaBall",
         "25",
         "2016-01-13T17:36:30.000+0000"
        ],
        [
         2923,
         "BrianNelson",
         "26",
         "2015-11-11T03:20:57.000+0000"
        ],
        [
         3089,
         "AbigailAli",
         "20",
         "2015-10-24T11:23:51.000+0000"
        ],
        [
         6063,
         "CoreyAndrews",
         "23",
         "2015-11-25T13:36:22.000+0000"
        ],
        [
         3454,
         "RobertMurphy",
         "48",
         "2017-09-26T16:31:56.000+0000"
        ],
        [
         7554,
         "CherylHuerta",
         "20",
         "2017-04-11T16:35:33.000+0000"
        ],
        [
         4518,
         "AllisonAdams",
         "22",
         "2015-11-30T10:51:59.000+0000"
        ],
        [
         2628,
         "JeffreyBaker",
         "24",
         "2017-03-28T13:32:24.000+0000"
        ],
        [
         2959,
         "DavidGriffith",
         "20",
         "2016-01-07T19:49:22.000+0000"
        ],
        [
         9875,
         "BrendanJoseph",
         "26",
         "2015-12-20T10:28:00.000+0000"
        ],
        [
         7528,
         "AbigailAli",
         "20",
         "2015-10-24T11:23:51.000+0000"
        ],
        [
         2863,
         "DylanHolmes",
         "32",
         "2016-10-23T14:06:51.000+0000"
        ]
       ],
       "datasetInfos": [],
       "dbfsResultPath": null,
       "isJsonSchema": true,
       "metadata": {
        "isDbfsCommandResult": false
       },
       "overflow": false,
       "plotOptions": {
        "customPlotOptions": {},
        "displayType": "table",
        "pivotAggregation": null,
        "pivotColumns": null,
        "xColumns": null,
        "yColumns": null
       },
       "removedWidgets": [],
       "schema": [
        {
         "metadata": "{}",
         "name": "ind",
         "type": "\"integer\""
        },
        {
         "metadata": "{}",
         "name": "user_name",
         "type": "\"string\""
        },
        {
         "metadata": "{}",
         "name": "age",
         "type": "\"string\""
        },
        {
         "metadata": "{}",
         "name": "date_joined",
         "type": "\"timestamp\""
        }
       ],
       "type": "table"
      }
     },
     "output_type": "display_data"
    }
   ],
   "source": [
    "# Create a new column user_name that concatenates the information found in the first_name and last_name columns\n",
    "df_user = df_user.withColumn('user_name', concat('first_name', 'last_name'))\n",
    "\n",
    "# Drop the first_name and last_name columns from the DataFrame\n",
    "df_user = df_user.drop('first_name', 'last_name')\n",
    "\n",
    "# Convert the date_joined column from a string to a timestamp data type\n",
    "df_user = df_user.withColumn('date_joined', col('date_joined')\\\n",
    "    .cast('timestamp'))\n",
    "\n",
    "# Reorder the DataFrame columns to have the following column order:\n",
    "\n",
    "df_user_header = ['ind',\n",
    "  'user_name',\n",
    "  'age',\n",
    "  'date_joined']\n",
    "\n",
    "df_user = df_user.select(df_user_header)\n",
    "\n",
    "df_user.display(10)"
   ]
  },
  {
   "cell_type": "code",
   "execution_count": null,
   "metadata": {
    "application/vnd.databricks.v1+cell": {
     "cellMetadata": {
      "byteLimit": 2048000,
      "rowLimit": 10000
     },
     "inputWidgets": {},
     "nuid": "690c7d09-40af-46c1-8ecb-4c7083214b73",
     "showTitle": true,
     "title": "Task 4"
    }
   },
   "outputs": [
    {
     "data": {
      "text/html": [
       "<style scoped>\n",
       "  .ansiout {\n",
       "    display: block;\n",
       "    unicode-bidi: embed;\n",
       "    white-space: pre-wrap;\n",
       "    word-wrap: break-word;\n",
       "    word-break: break-all;\n",
       "    font-family: \"Source Code Pro\", \"Menlo\", monospace;;\n",
       "    font-size: 13px;\n",
       "    color: #555;\n",
       "    margin-left: 4px;\n",
       "    line-height: 19px;\n",
       "  }\n",
       "</style>\n",
       "<div class=\"ansiout\">Out[32]: DataFrame[country: string, category: string, category_count: bigint]</div>"
      ]
     },
     "metadata": {
      "application/vnd.databricks.v1+output": {
       "addedWidgets": {},
       "arguments": {},
       "data": "<div class=\"ansiout\">Out[32]: DataFrame[country: string, category: string, category_count: bigint]</div>",
       "datasetInfos": [],
       "metadata": {},
       "removedWidgets": [],
       "type": "html"
      }
     },
     "output_type": "display_data"
    }
   ],
   "source": [
    "# Find the most popular Pinterest category people post to based on their country.\n",
    "# First join the dataframe\n",
    "df_pin_geo = df_pin.join(df_geo, df_pin.ind==df_geo.ind, 'inner')\n",
    "\n",
    "#Groupby country and category\n",
    "df_pin_geo.groupby('country','category') \\\n",
    "    .agg(count('category')\\\n",
    "    .alias('category_count'))\\\n",
    "    .sort('category_count', ascending=False)\n",
    "\n",
    "# df_pin_geo.show()"
   ]
  },
  {
   "cell_type": "code",
   "execution_count": null,
   "metadata": {
    "application/vnd.databricks.v1+cell": {
     "cellMetadata": {
      "byteLimit": 2048000,
      "rowLimit": 10000
     },
     "inputWidgets": {},
     "nuid": "a9987204-1966-4641-b163-1c56053d1290",
     "showTitle": true,
     "title": "Write the streaming data to Delta Tables"
    }
   },
   "outputs": [
    {
     "data": {
      "text/html": [
       "<style scoped>\n",
       "  .ansiout {\n",
       "    display: block;\n",
       "    unicode-bidi: embed;\n",
       "    white-space: pre-wrap;\n",
       "    word-wrap: break-word;\n",
       "    word-break: break-all;\n",
       "    font-family: \"Source Code Pro\", \"Menlo\", monospace;;\n",
       "    font-size: 13px;\n",
       "    color: #555;\n",
       "    margin-left: 4px;\n",
       "    line-height: 19px;\n",
       "  }\n",
       "</style>\n",
       "<div class=\"ansiout\">Out[20]: &lt;pyspark.sql.streaming.StreamingQuery at 0x7f17c440d910&gt;</div>"
      ]
     },
     "metadata": {
      "application/vnd.databricks.v1+output": {
       "addedWidgets": {},
       "arguments": {},
       "data": "<div class=\"ansiout\">Out[20]: &lt;pyspark.sql.streaming.StreamingQuery at 0x7f17c440d910&gt;</div>",
       "datasetInfos": [],
       "metadata": {},
       "removedWidgets": [],
       "type": "html"
      }
     },
     "output_type": "display_data"
    }
   ],
   "source": [
    "# Remove the checkpoint folder first\n",
    "dbutils.fs.rm(\"/tmp/kinesis/_checkpoints/\", True)\n",
    "\n",
    "df_pin.writeStream \\\n",
    "  .format(\"delta\") \\\n",
    "  .outputMode(\"append\") \\\n",
    "  .option(\"checkpointLocation\", \"/tmp/kinesis/_checkpoints/\") \\\n",
    "  .table(\"12853887c065_pin_table\")\n",
    "\n",
    "\n",
    "df_geo.writeStream \\\n",
    "  .format(\"delta\") \\\n",
    "  .outputMode(\"append\") \\\n",
    "  .option(\"checkpointLocation\", \"/tmp/kinesis/_checkpoints/\") \\\n",
    "  .table(\"12853887c065_geo_table\")\n",
    "\n",
    "\n",
    "df_user.writeStream \\\n",
    "  .format(\"delta\") \\\n",
    "  .outputMode(\"append\") \\\n",
    "  .option(\"checkpointLocation\", \"/tmp/kinesis/_checkpoints/\") \\\n",
    "  .table(\"12853887c065_user_table\")"
   ]
  }
 ],
 "metadata": {
  "application/vnd.databricks.v1+notebook": {
   "dashboards": [],
   "language": "python",
   "notebookMetadata": {
    "pythonIndentUnit": 4
   },
   "notebookName": "streaming-pin-post",
   "widgets": {}
  },
  "language_info": {
   "name": "python"
  }
 },
 "nbformat": 4,
 "nbformat_minor": 0
}
